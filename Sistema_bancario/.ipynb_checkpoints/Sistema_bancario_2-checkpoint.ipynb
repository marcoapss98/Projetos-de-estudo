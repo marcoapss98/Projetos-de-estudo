{
 "cells": [
  {
   "cell_type": "code",
   "execution_count": null,
   "id": "030fb9ec-469a-4285-9c46-38a12b9b60a8",
   "metadata": {},
   "outputs": [],
   "source": [
    "def depositar(valor, saldo):\n",
    "    if valor > 0:\n",
    "        saldo += valor\n",
    "        print('Depósito efetuado')\n",
    "    else:\n",
    "        print('Valor de depósito inválido\\n')\n",
    "    return saldo\n",
    "depositar(2,3)"
   ]
  }
 ],
 "metadata": {
  "kernelspec": {
   "display_name": "Python 3 (ipykernel)",
   "language": "python",
   "name": "python3"
  },
  "language_info": {
   "codemirror_mode": {
    "name": "ipython",
    "version": 3
   },
   "file_extension": ".py",
   "mimetype": "text/x-python",
   "name": "python",
   "nbconvert_exporter": "python",
   "pygments_lexer": "ipython3",
   "version": "3.10.9"
  }
 },
 "nbformat": 4,
 "nbformat_minor": 5
}
