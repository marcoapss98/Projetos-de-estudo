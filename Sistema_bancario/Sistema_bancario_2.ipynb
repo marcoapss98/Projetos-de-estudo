{
 "cells": [
  {
   "cell_type": "code",
   "execution_count": 1,
   "id": "030fb9ec-469a-4285-9c46-38a12b9b60a8",
   "metadata": {},
   "outputs": [
    {
     "name": "stdout",
     "output_type": "stream",
     "text": [
      "Depósito efetuado\n"
     ]
    },
    {
     "data": {
      "text/plain": [
       "(5, '')"
      ]
     },
     "execution_count": 1,
     "metadata": {},
     "output_type": "execute_result"
    }
   ],
   "source": [
    "def depositar(valor, saldo, extrato):\n",
    "    if valor > 0:\n",
    "        saldo += valor\n",
    "        print('Depósito efetuado')\n",
    "    else:\n",
    "        print('Valor de depósito inválido\\n')\n",
    "    return saldo, extrato\n",
    "depositar(2, 3, '')"
   ]
  },
  {
   "cell_type": "code",
   "execution_count": 2,
   "id": "86e986d7-3a01-4956-9159-7e1f88e19c04",
   "metadata": {},
   "outputs": [
    {
     "data": {
      "text/plain": [
       "2"
      ]
     },
     "execution_count": 2,
     "metadata": {},
     "output_type": "execute_result"
    }
   ],
   "source": [
    "def sacar(valor, saldo):\n",
    "    saques = 0\n",
    "    LIMITE_SAQUES = 3\n",
    "    limite = 500\n",
    "    \n",
    "    if (valor <= limite) and (valor <= saldo) and (saques <= LIMITE_SAQUES):\n",
    "        saques += 1\n",
    "        saldo -= valor\n",
    "    elif saques > LIMITE_SAQUES:\n",
    "        print('Limite de saques excedidos\\n')\n",
    "    elif valor > limite:\n",
    "        print('Saque maior que o limite permitido')\n",
    "    else:\n",
    "        print('Saldo insuficiente')\n",
    "    return saldo\n",
    "sacar(3, 5)"
   ]
  },
  {
   "cell_type": "code",
   "execution_count": 3,
   "id": "e58562fe-71be-48ea-827e-93b5ca526238",
   "metadata": {},
   "outputs": [
    {
     "name": "stdout",
     "output_type": "stream",
     "text": [
      "=============[Extrato]=============\n",
      "\n",
      "Saldo de R$6.00\n",
      "===================================\n",
      "\n"
     ]
    }
   ],
   "source": [
    "def exibir_extrato(saldo, extrato):\n",
    "    print('=============[Extrato]=============')\n",
    "    print('Sem movimentações realizadas' if not extrato in extrato else extrato)\n",
    "    print(f'Saldo de R${saldo:.2f}')\n",
    "    print('===================================\\n')\n",
    "\n",
    "exibir_extrato(6, '')"
   ]
  }
 ],
 "metadata": {
  "kernelspec": {
   "display_name": "Python 3 (ipykernel)",
   "language": "python",
   "name": "python3"
  },
  "language_info": {
   "codemirror_mode": {
    "name": "ipython",
    "version": 3
   },
   "file_extension": ".py",
   "mimetype": "text/x-python",
   "name": "python",
   "nbconvert_exporter": "python",
   "pygments_lexer": "ipython3",
   "version": "3.10.9"
  }
 },
 "nbformat": 4,
 "nbformat_minor": 5
}
