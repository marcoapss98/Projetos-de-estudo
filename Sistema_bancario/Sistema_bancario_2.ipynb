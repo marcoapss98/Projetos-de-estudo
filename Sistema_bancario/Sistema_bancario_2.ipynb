{
 "cells": [
  {
   "cell_type": "code",
   "execution_count": 1,
   "id": "030fb9ec-469a-4285-9c46-38a12b9b60a8",
   "metadata": {},
   "outputs": [
    {
     "name": "stdout",
     "output_type": "stream",
     "text": [
      "Depósito efetuado\n"
     ]
    },
    {
     "data": {
      "text/plain": [
       "(5, '')"
      ]
     },
     "execution_count": 1,
     "metadata": {},
     "output_type": "execute_result"
    }
   ],
   "source": [
    "def depositar(valor, saldo, extrato):\n",
    "    if valor > 0:\n",
    "        saldo += valor\n",
    "        print('Depósito efetuado')\n",
    "    else:\n",
    "        print('Valor de depósito inválido\\n')\n",
    "    return saldo, extrato\n",
    "\n",
    "#teste\n",
    "depositar(2, 3, '')"
   ]
  },
  {
   "cell_type": "code",
   "execution_count": 2,
   "id": "86e986d7-3a01-4956-9159-7e1f88e19c04",
   "metadata": {},
   "outputs": [
    {
     "name": "stdout",
     "output_type": "stream",
     "text": [
      "Saque realizado\n"
     ]
    },
    {
     "data": {
      "text/plain": [
       "(20, '')"
      ]
     },
     "execution_count": 2,
     "metadata": {},
     "output_type": "execute_result"
    }
   ],
   "source": [
    "def sacar(*, valor, saldo, extrato, saques, limite_saque, limite):\n",
    "    ultrapassou_lim = valor>limite\n",
    "    sem_saldo = valor>saldo\n",
    "    qtd_saque_ult = saques>limite_saque\n",
    "\n",
    "    if ultrapassou_lim: \n",
    "        print('Valor acima do limite estipulado')\n",
    "    elif sem_saldo:\n",
    "        print('Saldo insuficiente para resgate')\n",
    "    elif qtd_saque_ult:\n",
    "        print('Quantidade de saques excedidas')\n",
    "    else:\n",
    "        saldo -= valor\n",
    "        print('Saque realizado')\n",
    "    return saldo, extrato\n",
    "\n",
    "#teste\n",
    "sacar(valor = 10, saldo = 30, extrato = '', saques = 0, limite_saque = 1, limite = 15)"
   ]
  },
  {
   "cell_type": "code",
   "execution_count": 17,
   "id": "e58562fe-71be-48ea-827e-93b5ca526238",
   "metadata": {},
   "outputs": [
    {
     "name": "stdout",
     "output_type": "stream",
     "text": [
      "=============[Extrato]=============\n",
      "\n",
      "Saldo de R$6.00\n",
      "===================================\n",
      "\n"
     ]
    }
   ],
   "source": [
    "def exibir_extrato(saldo, /, *, extrato):\n",
    "    print('=============[Extrato]=============')\n",
    "    print('Sem movimentações realizadas' if not extrato in extrato else extrato)\n",
    "    print(f'Saldo de R${saldo:.2f}')\n",
    "    print('===================================\\n')\n",
    "\n",
    "#teste\n",
    "exibir_extrato(6, extrato = '')"
   ]
  },
  {
   "cell_type": "code",
   "execution_count": null,
   "id": "de88f175-329c-4598-a47b-e5efc2034404",
   "metadata": {},
   "outputs": [],
   "source": []
  }
 ],
 "metadata": {
  "kernelspec": {
   "display_name": "Python 3 (ipykernel)",
   "language": "python",
   "name": "python3"
  },
  "language_info": {
   "codemirror_mode": {
    "name": "ipython",
    "version": 3
   },
   "file_extension": ".py",
   "mimetype": "text/x-python",
   "name": "python",
   "nbconvert_exporter": "python",
   "pygments_lexer": "ipython3",
   "version": "3.10.9"
  }
 },
 "nbformat": 4,
 "nbformat_minor": 5
}
