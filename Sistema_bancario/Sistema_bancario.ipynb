{
 "cells": [
  {
   "cell_type": "code",
   "execution_count": 1,
   "id": "045a7520-fa6b-4d63-87d0-aad90a312e1c",
   "metadata": {},
   "outputs": [],
   "source": [
    "menu = '''\n",
    "\n",
    "[d] = Depositar\n",
    "[s] = Sacar\n",
    "[e] = Extrato\n",
    "[q] = Sair\n",
    "\n",
    "'''\n",
    "\n",
    "saldo = 0\n",
    "limite = 500\n",
    "extrato = ''\n",
    "numero_saques = 0\n",
    "LIMITE_SAQUES = 3"
   ]
  },
  {
   "cell_type": "code",
   "execution_count": null,
   "id": "ef04f91c-a56c-4235-9ad2-072f4221c42b",
   "metadata": {},
   "outputs": [],
   "source": [
    "while True:\n",
    "    opcao = input(menu)\n",
    "\n",
    "    if opcao == 'd':\n",
    "        deposito = float(input())\n",
    "        if deposito > 0:\n",
    "            saldo += deposito\n",
    "            print('Depósito de R${}'.format(deposito))\n",
    "        else:\n",
    "            print('Valor de depósito precisa ser maior que 0, favor tentar novamente')\n",
    "\n",
    "    elif opcao == 's':\n",
    "        saque = float(input())\n",
    "        if (numero_saques <= LIMITE_SAQUES) and (saque <= saldo) and (saque <= limite):\n",
    "            numero_saques += 1\n",
    "            saldo -= saque\n",
    "        elif numero_saques > 3:\n",
    "            print('Limite de saques excedidos')\n",
    "        elif saque > limite:\n",
    "            print('Saque maior que o limite permitido de R${}'.format(limite))\n",
    "        else:\n",
    "            print('Saldo insuficiente')\n",
    "\n",
    "    elif opcao == 'e':\n",
    "        print('Seu saldo atual é de R${} \\n Total depositado R${} \\n Total sacado R${} \\n Limite de saques restantes {}'.format(saldo, deposito, saque, 3 - numero_saques))\n",
    "\n",
    "    elif opcao == 'q':\n",
    "        break\n",
    "\n",
    "    else:\n",
    "        print('Operação não permitida, por favor, inserir novamente a operação desejada')"
   ]
  }
 ],
 "metadata": {
  "kernelspec": {
   "display_name": "Python 3 (ipykernel)",
   "language": "python",
   "name": "python3"
  },
  "language_info": {
   "codemirror_mode": {
    "name": "ipython",
    "version": 3
   },
   "file_extension": ".py",
   "mimetype": "text/x-python",
   "name": "python",
   "nbconvert_exporter": "python",
   "pygments_lexer": "ipython3",
   "version": "3.10.9"
  }
 },
 "nbformat": 4,
 "nbformat_minor": 5
}
