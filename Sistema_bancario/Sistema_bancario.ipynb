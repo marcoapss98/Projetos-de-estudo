{
 "cells": [
  {
   "cell_type": "code",
   "execution_count": 1,
   "id": "22fc068a-8000-4da4-9ae1-f4ecd80e0335",
   "metadata": {},
   "outputs": [],
   "source": [
    "menu = '''\n",
    "\n",
    "[d] = Depositar\n",
    "[s] = Sacar\n",
    "[e] = Extrato\n",
    "[q] = Sair\n",
    "\n",
    "'''\n",
    "\n",
    "saldo = 0\n",
    "limite = 500\n",
    "extrato = ''\n",
    "numero_saques = 0\n",
    "LIMITE_SAQUES = 3\n",
    "valor_saques = list()\n",
    "valor_depositos = list()"
   ]
  },
  {
   "cell_type": "code",
   "execution_count": null,
   "id": "6bb2e88e-8faf-4178-a889-414c00216c5a",
   "metadata": {},
   "outputs": [
    {
     "name": "stdin",
     "output_type": "stream",
     "text": [
      "\n",
      "\n",
      "[d] = Depositar\n",
      "[s] = Sacar\n",
      "[e] = Extrato\n",
      "[q] = Sair\n",
      "\n",
      " e\n"
     ]
    },
    {
     "name": "stdout",
     "output_type": "stream",
     "text": [
      "[Extrato]\n",
      "Seu saldo atual é de R$0\n",
      "Total depositado R$0\n",
      "Total sacado R$0\n",
      "Limite de saques restantes 3\n"
     ]
    },
    {
     "name": "stdin",
     "output_type": "stream",
     "text": [
      "\n",
      "\n",
      "[d] = Depositar\n",
      "[s] = Sacar\n",
      "[e] = Extrato\n",
      "[q] = Sair\n",
      "\n",
      " d\n",
      "Valor de depósito: R$ 260\n"
     ]
    },
    {
     "name": "stdout",
     "output_type": "stream",
     "text": [
      "Depósito de R$260.0\n"
     ]
    },
    {
     "name": "stdin",
     "output_type": "stream",
     "text": [
      "\n",
      "\n",
      "[d] = Depositar\n",
      "[s] = Sacar\n",
      "[e] = Extrato\n",
      "[q] = Sair\n",
      "\n",
      " e\n"
     ]
    },
    {
     "name": "stdout",
     "output_type": "stream",
     "text": [
      "[Extrato]\n",
      "Seu saldo atual é de R$260.0\n",
      "Total depositado R$260.0\n",
      "Total sacado R$0\n",
      "Limite de saques restantes 3\n"
     ]
    },
    {
     "name": "stdin",
     "output_type": "stream",
     "text": [
      "\n",
      "\n",
      "[d] = Depositar\n",
      "[s] = Sacar\n",
      "[e] = Extrato\n",
      "[q] = Sair\n",
      "\n",
      " s\n",
      "Valor de saque: R$ 256\n",
      "\n",
      "\n",
      "[d] = Depositar\n",
      "[s] = Sacar\n",
      "[e] = Extrato\n",
      "[q] = Sair\n",
      "\n",
      " e\n"
     ]
    },
    {
     "name": "stdout",
     "output_type": "stream",
     "text": [
      "[Extrato]\n",
      "Seu saldo atual é de R$4.0\n",
      "Total depositado R$260.0\n",
      "Total sacado R$256.0\n",
      "Limite de saques restantes 2\n"
     ]
    }
   ],
   "source": [
    "while True:\n",
    "    opcao = input(menu)\n",
    "\n",
    "    if opcao == 'd':\n",
    "        deposito = float(input('Valor de depósito: R$'))\n",
    "        \n",
    "        if deposito > 0:\n",
    "            saldo += deposito\n",
    "            valor_depositos.append(deposito)\n",
    "            print('Depósito de R${}'.format(deposito))\n",
    "        \n",
    "        else:\n",
    "            print('Valor de depósito precisa ser maior que 0, favor tentar novamente')\n",
    "            \n",
    "    elif opcao == 's':\n",
    "        saque = float(input('Valor de saque: R$'))\n",
    "        \n",
    "        if (numero_saques <= LIMITE_SAQUES) and (saque <= saldo) and (saque <= limite):\n",
    "            numero_saques += 1\n",
    "            saldo -= saque\n",
    "            valor_saques.append(saque)\n",
    "            \n",
    "        elif numero_saques > 3:\n",
    "            print('Limite de saques excedidos')\n",
    "            \n",
    "        elif saque > limite:\n",
    "            print('Saque maior que o limite permitido de R${}'.format(limite))\n",
    "        \n",
    "        else:\n",
    "            print('Saldo insuficiente')     \n",
    "\n",
    "    elif opcao == 'e':\n",
    "        print('[Extrato]')\n",
    "        print('Seu saldo atual é de R${}'.format(saldo))\n",
    "        print('Total depositado R${}'.format(sum(valor_depositos)))\n",
    "        print('Total sacado R${}'.format(sum(valor_saques)))\n",
    "        print('Limite de saques restantes {}'.format(3 - numero_saques))\n",
    "\n",
    "    elif opcao == 'q':\n",
    "        break\n",
    "\n",
    "    else:\n",
    "        print('Operação inválida, por favor, insira novamente a operação desejada')"
   ]
  },
  {
   "cell_type": "code",
   "execution_count": null,
   "id": "2e18f728-941a-4df3-8220-0b1dd275bcab",
   "metadata": {},
   "outputs": [],
   "source": []
  }
 ],
 "metadata": {
  "kernelspec": {
   "display_name": "Python 3 (ipykernel)",
   "language": "python",
   "name": "python3"
  },
  "language_info": {
   "codemirror_mode": {
    "name": "ipython",
    "version": 3
   },
   "file_extension": ".py",
   "mimetype": "text/x-python",
   "name": "python",
   "nbconvert_exporter": "python",
   "pygments_lexer": "ipython3",
   "version": "3.10.9"
  }
 },
 "nbformat": 4,
 "nbformat_minor": 5
}
