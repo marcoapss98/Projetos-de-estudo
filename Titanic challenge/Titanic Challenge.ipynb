{
 "cells": [
  {
   "cell_type": "markdown",
   "id": "c6b33019-f031-4b66-a64b-52e54a19b549",
   "metadata": {},
   "source": [
    "### Dataset Description\n",
    "Overview\n",
    "The data has been split into two groups:\n",
    "\n",
    "training set (train.csv)\n",
    "test set (test.csv)\n",
    "The training set should be used to build your machine learning models. For the training set, we provide the outcome (also known as the “ground truth”) for each passenger. Your model will be based on “features” like passengers’ gender and class. You can also use feature engineering to create new features.\n",
    "\n",
    "The test set should be used to see how well your model performs on unseen data. For the test set, we do not provide the ground truth for each passenger. It is your job to predict these outcomes. For each passenger in the test set, use the model you trained to predict whether or not they survived the sinking of the Titanic.\n",
    "\n",
    "We also include gender_submission.csv, a set of predictions that assume all and only female passengers survive, as an example of what a submission file should look like."
   ]
  },
  {
   "cell_type": "markdown",
   "id": "b1fd3b93-0baf-4fe4-9c79-e9ec71ec33ba",
   "metadata": {},
   "source": [
    "### Data Dictionary\n",
    "\n",
    "Variable|Definition|Key \n",
    "-|-|-\n",
    "survival|Survival| 0 = No, 1 = Yes     \n",
    "pclass|Ticket class|1 = 1st, 2 = 2nd, 3 = 3rd                \n",
    "sex|Sex|          \n",
    "Age|Age in years|\n",
    "sibsp|# of siblings / spouses aboard the Titanic |\n",
    "parch|# of parents / children aboard the Titanic |\n",
    "ticket|Ticket number|\n",
    "fare|Passenger fare|\n",
    "cabin|Cabin number|\n",
    "embarked|Port of Embarkation|C = Cherbourg, Q = Queenstown, S = Southampton"
   ]
  },
  {
   "cell_type": "markdown",
   "id": "6058de2a-e5cf-4893-865f-906841eeadec",
   "metadata": {},
   "source": [
    "# Importação das bibliotecas utilizadas"
   ]
  },
  {
   "cell_type": "code",
   "execution_count": 1,
   "id": "636a2e0c-cbac-4ec1-a3d9-59eeea5bdcae",
   "metadata": {},
   "outputs": [],
   "source": [
    "import pandas as pd\n",
    "import numpy as np\n",
    "import seaborn as sns\n",
    "from sklearn.preprocessing import LabelEncoder\n",
    "from sklearn.model_selection import train_test_split, KFold\n",
    "from sklearn import svm\n",
    "from sklearn.ensemble import ExtraTreesClassifier, RandomForestClassifier\n",
    "from sklearn.metrics import confusion_matrix, accuracy_score, recall_score\n",
    "from imblearn.over_sampling import RandomOverSampler"
   ]
  },
  {
   "cell_type": "markdown",
   "id": "0f596930-637c-42bc-8909-ea48484f507c",
   "metadata": {},
   "source": [
    "# Importação da base de dados e exploração"
   ]
  },
  {
   "cell_type": "code",
   "execution_count": 2,
   "id": "a712c645-63fa-43d3-96be-4162b688a79a",
   "metadata": {},
   "outputs": [
    {
     "data": {
      "text/html": [
       "<div>\n",
       "<style scoped>\n",
       "    .dataframe tbody tr th:only-of-type {\n",
       "        vertical-align: middle;\n",
       "    }\n",
       "\n",
       "    .dataframe tbody tr th {\n",
       "        vertical-align: top;\n",
       "    }\n",
       "\n",
       "    .dataframe thead th {\n",
       "        text-align: right;\n",
       "    }\n",
       "</style>\n",
       "<table border=\"1\" class=\"dataframe\">\n",
       "  <thead>\n",
       "    <tr style=\"text-align: right;\">\n",
       "      <th></th>\n",
       "      <th>PassengerId</th>\n",
       "      <th>Survived</th>\n",
       "      <th>Pclass</th>\n",
       "      <th>Name</th>\n",
       "      <th>Sex</th>\n",
       "      <th>Age</th>\n",
       "      <th>SibSp</th>\n",
       "      <th>Parch</th>\n",
       "      <th>Ticket</th>\n",
       "      <th>Fare</th>\n",
       "      <th>Cabin</th>\n",
       "      <th>Embarked</th>\n",
       "    </tr>\n",
       "  </thead>\n",
       "  <tbody>\n",
       "    <tr>\n",
       "      <th>0</th>\n",
       "      <td>1</td>\n",
       "      <td>0</td>\n",
       "      <td>3</td>\n",
       "      <td>Braund, Mr. Owen Harris</td>\n",
       "      <td>male</td>\n",
       "      <td>22.0</td>\n",
       "      <td>1</td>\n",
       "      <td>0</td>\n",
       "      <td>A/5 21171</td>\n",
       "      <td>7.2500</td>\n",
       "      <td>NaN</td>\n",
       "      <td>S</td>\n",
       "    </tr>\n",
       "    <tr>\n",
       "      <th>1</th>\n",
       "      <td>2</td>\n",
       "      <td>1</td>\n",
       "      <td>1</td>\n",
       "      <td>Cumings, Mrs. John Bradley (Florence Briggs Th...</td>\n",
       "      <td>female</td>\n",
       "      <td>38.0</td>\n",
       "      <td>1</td>\n",
       "      <td>0</td>\n",
       "      <td>PC 17599</td>\n",
       "      <td>71.2833</td>\n",
       "      <td>C85</td>\n",
       "      <td>C</td>\n",
       "    </tr>\n",
       "    <tr>\n",
       "      <th>2</th>\n",
       "      <td>3</td>\n",
       "      <td>1</td>\n",
       "      <td>3</td>\n",
       "      <td>Heikkinen, Miss. Laina</td>\n",
       "      <td>female</td>\n",
       "      <td>26.0</td>\n",
       "      <td>0</td>\n",
       "      <td>0</td>\n",
       "      <td>STON/O2. 3101282</td>\n",
       "      <td>7.9250</td>\n",
       "      <td>NaN</td>\n",
       "      <td>S</td>\n",
       "    </tr>\n",
       "    <tr>\n",
       "      <th>3</th>\n",
       "      <td>4</td>\n",
       "      <td>1</td>\n",
       "      <td>1</td>\n",
       "      <td>Futrelle, Mrs. Jacques Heath (Lily May Peel)</td>\n",
       "      <td>female</td>\n",
       "      <td>35.0</td>\n",
       "      <td>1</td>\n",
       "      <td>0</td>\n",
       "      <td>113803</td>\n",
       "      <td>53.1000</td>\n",
       "      <td>C123</td>\n",
       "      <td>S</td>\n",
       "    </tr>\n",
       "    <tr>\n",
       "      <th>4</th>\n",
       "      <td>5</td>\n",
       "      <td>0</td>\n",
       "      <td>3</td>\n",
       "      <td>Allen, Mr. William Henry</td>\n",
       "      <td>male</td>\n",
       "      <td>35.0</td>\n",
       "      <td>0</td>\n",
       "      <td>0</td>\n",
       "      <td>373450</td>\n",
       "      <td>8.0500</td>\n",
       "      <td>NaN</td>\n",
       "      <td>S</td>\n",
       "    </tr>\n",
       "  </tbody>\n",
       "</table>\n",
       "</div>"
      ],
      "text/plain": [
       "   PassengerId  Survived  Pclass  \\\n",
       "0            1         0       3   \n",
       "1            2         1       1   \n",
       "2            3         1       3   \n",
       "3            4         1       1   \n",
       "4            5         0       3   \n",
       "\n",
       "                                                Name     Sex   Age  SibSp  \\\n",
       "0                            Braund, Mr. Owen Harris    male  22.0      1   \n",
       "1  Cumings, Mrs. John Bradley (Florence Briggs Th...  female  38.0      1   \n",
       "2                             Heikkinen, Miss. Laina  female  26.0      0   \n",
       "3       Futrelle, Mrs. Jacques Heath (Lily May Peel)  female  35.0      1   \n",
       "4                           Allen, Mr. William Henry    male  35.0      0   \n",
       "\n",
       "   Parch            Ticket     Fare Cabin Embarked  \n",
       "0      0         A/5 21171   7.2500   NaN        S  \n",
       "1      0          PC 17599  71.2833   C85        C  \n",
       "2      0  STON/O2. 3101282   7.9250   NaN        S  \n",
       "3      0            113803  53.1000  C123        S  \n",
       "4      0            373450   8.0500   NaN        S  "
      ]
     },
     "execution_count": 2,
     "metadata": {},
     "output_type": "execute_result"
    }
   ],
   "source": [
    "dados = pd.read_csv('train.csv', sep = ',')\n",
    "dados.head()"
   ]
  },
  {
   "cell_type": "code",
   "execution_count": 3,
   "id": "08376f50-7304-4d5b-bee3-08250277c7e0",
   "metadata": {},
   "outputs": [],
   "source": [
    "dados = dados[['PassengerId', 'Pclass', 'Name', 'Sex', 'Age', 'SibSp',\n",
    "       'Parch', 'Ticket', 'Fare', 'Cabin', 'Embarked','Survived']]"
   ]
  },
  {
   "cell_type": "code",
   "execution_count": 4,
   "id": "1cc2f152-f3d8-4cbf-9099-17d0d73d9eb6",
   "metadata": {},
   "outputs": [
    {
     "name": "stdout",
     "output_type": "stream",
     "text": [
      "<class 'pandas.core.frame.DataFrame'>\n",
      "RangeIndex: 891 entries, 0 to 890\n",
      "Data columns (total 12 columns):\n",
      " #   Column       Non-Null Count  Dtype  \n",
      "---  ------       --------------  -----  \n",
      " 0   PassengerId  891 non-null    int64  \n",
      " 1   Pclass       891 non-null    int64  \n",
      " 2   Name         891 non-null    object \n",
      " 3   Sex          891 non-null    object \n",
      " 4   Age          714 non-null    float64\n",
      " 5   SibSp        891 non-null    int64  \n",
      " 6   Parch        891 non-null    int64  \n",
      " 7   Ticket       891 non-null    object \n",
      " 8   Fare         891 non-null    float64\n",
      " 9   Cabin        204 non-null    object \n",
      " 10  Embarked     889 non-null    object \n",
      " 11  Survived     891 non-null    int64  \n",
      "dtypes: float64(2), int64(5), object(5)\n",
      "memory usage: 83.7+ KB\n"
     ]
    }
   ],
   "source": [
    "dados.info()"
   ]
  },
  {
   "cell_type": "code",
   "execution_count": 5,
   "id": "9929e1cb-1e20-400e-aebf-40c795de5645",
   "metadata": {},
   "outputs": [
    {
     "data": {
      "text/plain": [
       "count    714.000000\n",
       "mean      29.699118\n",
       "std       14.526497\n",
       "min        0.420000\n",
       "25%       20.125000\n",
       "50%       28.000000\n",
       "75%       38.000000\n",
       "max       80.000000\n",
       "Name: Age, dtype: float64"
      ]
     },
     "execution_count": 5,
     "metadata": {},
     "output_type": "execute_result"
    }
   ],
   "source": [
    "dados['Age'].describe()"
   ]
  },
  {
   "cell_type": "code",
   "execution_count": 6,
   "id": "d76a39c5-28da-4701-8171-5ccc4d7cd34d",
   "metadata": {},
   "outputs": [
    {
     "data": {
      "text/plain": [
       "<Axes: xlabel='Age', ylabel='Count'>"
      ]
     },
     "execution_count": 6,
     "metadata": {},
     "output_type": "execute_result"
    },
    {
     "data": {
      "image/png": "[encoded data removed]",
      "text/plain": [
       "<Figure size 640x480 with 1 Axes>"
      ]
     },
     "metadata": {},
     "output_type": "display_data"
    }
   ],
   "source": [
    "sns.histplot(data = dados, x='Age')"
   ]
  },
  {
   "cell_type": "code",
   "execution_count": 7,
   "id": "15aa9a7e-d181-48cf-9cca-ce251fa8a37d",
   "metadata": {},
   "outputs": [
    {
     "data": {
      "text/plain": [
       "count     889\n",
       "unique      3\n",
       "top         S\n",
       "freq      644\n",
       "Name: Embarked, dtype: object"
      ]
     },
     "execution_count": 7,
     "metadata": {},
     "output_type": "execute_result"
    }
   ],
   "source": [
    "dados['Embarked'].describe()"
   ]
  },
  {
   "cell_type": "code",
   "execution_count": 8,
   "id": "3dc92a95-96b5-4de7-b69d-8e441ccefbec",
   "metadata": {},
   "outputs": [
    {
     "data": {
      "text/plain": [
       "<Axes: xlabel='Embarked', ylabel='Count'>"
      ]
     },
     "execution_count": 8,
     "metadata": {},
     "output_type": "execute_result"
    },
    {
     "data": {
      "image/png": "[encoded data removed]",
      "text/plain": [
       "<Figure size 640x480 with 1 Axes>"
      ]
     },
     "metadata": {},
     "output_type": "display_data"
    }
   ],
   "source": [
    "sns.histplot(data = dados, x='Embarked', bins = 50)"
   ]
  },
  {
   "cell_type": "markdown",
   "id": "374368b6-0fda-4293-9c7b-db6a740506b0",
   "metadata": {},
   "source": [
    "# Tratamento dos dados"
   ]
  },
  {
   "cell_type": "markdown",
   "id": "7f992b09-cddd-4704-b491-cd3134bc1625",
   "metadata": {},
   "source": [
    "### Tratamento dos dados de idade\n",
    "- As idades serão convertidas para números inteiros e os valores faltantes serão substituidos pela idade mediana, devido a \n",
    "- Os pontos de embarque (Embarked) serão substituidos pelo ponto que mais aparece (moda)"
   ]
  },
  {
   "cell_type": "code",
   "execution_count": 9,
   "id": "e7be4a0b-aa53-47cf-866d-9ea9e7dddb2e",
   "metadata": {},
   "outputs": [
    {
     "data": {
      "text/plain": [
       "<Axes: xlabel='Age', ylabel='Count'>"
      ]
     },
     "execution_count": 9,
     "metadata": {},
     "output_type": "execute_result"
    },
    {
     "data": {
      "image/png": "[encoded data removed]",
      "text/plain": [
       "<Figure size 640x480 with 1 Axes>"
      ]
     },
     "metadata": {},
     "output_type": "display_data"
    }
   ],
   "source": [
    "#Substituindo as idades faltantes pela média\n",
    "mediana = round(dados['Age'].median(), 0)\n",
    "dados['Age'].fillna(mediana, inplace = True)\n",
    "\n",
    "#Convertendo a idade para números inteiros\n",
    "dados['Age'] = dados['Age'].astype(int)\n",
    "\n",
    "sns.histplot(data = dados, x='Age')"
   ]
  },
  {
   "cell_type": "code",
   "execution_count": 10,
   "id": "8c010258-3bbc-42a0-8eca-36b54ee15012",
   "metadata": {},
   "outputs": [],
   "source": [
    "#Substituindo os pontos de embarque faltantes pela moda\n",
    "dados['Embarked'].fillna('S', inplace=True)"
   ]
  },
  {
   "cell_type": "code",
   "execution_count": 11,
   "id": "c2e1c4bf-b9ce-4b39-8b89-455d8aa2c359",
   "metadata": {},
   "outputs": [
    {
     "data": {
      "text/plain": [
       "S    646\n",
       "C    168\n",
       "Q     77\n",
       "Name: Embarked, dtype: int64"
      ]
     },
     "execution_count": 11,
     "metadata": {},
     "output_type": "execute_result"
    }
   ],
   "source": [
    "dados.Embarked.value_counts()"
   ]
  },
  {
   "cell_type": "markdown",
   "id": "70ad1945-6235-4d21-885f-5a42ca32cec3",
   "metadata": {},
   "source": [
    "# Transformação de variáveis categóricas para numéricas"
   ]
  },
  {
   "cell_type": "code",
   "execution_count": 12,
   "id": "05bac579-7d75-45cd-ba31-1678238664a2",
   "metadata": {
    "tags": []
   },
   "outputs": [
    {
     "data": {
      "text/html": [
       "<div>\n",
       "<style scoped>\n",
       "    .dataframe tbody tr th:only-of-type {\n",
       "        vertical-align: middle;\n",
       "    }\n",
       "\n",
       "    .dataframe tbody tr th {\n",
       "        vertical-align: top;\n",
       "    }\n",
       "\n",
       "    .dataframe thead th {\n",
       "        text-align: right;\n",
       "    }\n",
       "</style>\n",
       "<table border=\"1\" class=\"dataframe\">\n",
       "  <thead>\n",
       "    <tr style=\"text-align: right;\">\n",
       "      <th></th>\n",
       "      <th>Sex</th>\n",
       "      <th>Embarked</th>\n",
       "      <th>Pclass</th>\n",
       "      <th>Age</th>\n",
       "      <th>SibSp</th>\n",
       "      <th>Parch</th>\n",
       "      <th>Fare</th>\n",
       "      <th>Survived</th>\n",
       "    </tr>\n",
       "  </thead>\n",
       "  <tbody>\n",
       "    <tr>\n",
       "      <th>0</th>\n",
       "      <td>1</td>\n",
       "      <td>2</td>\n",
       "      <td>3</td>\n",
       "      <td>22</td>\n",
       "      <td>1</td>\n",
       "      <td>0</td>\n",
       "      <td>7.2500</td>\n",
       "      <td>0</td>\n",
       "    </tr>\n",
       "    <tr>\n",
       "      <th>1</th>\n",
       "      <td>0</td>\n",
       "      <td>0</td>\n",
       "      <td>1</td>\n",
       "      <td>38</td>\n",
       "      <td>1</td>\n",
       "      <td>0</td>\n",
       "      <td>71.2833</td>\n",
       "      <td>1</td>\n",
       "    </tr>\n",
       "    <tr>\n",
       "      <th>2</th>\n",
       "      <td>0</td>\n",
       "      <td>2</td>\n",
       "      <td>3</td>\n",
       "      <td>26</td>\n",
       "      <td>0</td>\n",
       "      <td>0</td>\n",
       "      <td>7.9250</td>\n",
       "      <td>1</td>\n",
       "    </tr>\n",
       "    <tr>\n",
       "      <th>3</th>\n",
       "      <td>0</td>\n",
       "      <td>2</td>\n",
       "      <td>1</td>\n",
       "      <td>35</td>\n",
       "      <td>1</td>\n",
       "      <td>0</td>\n",
       "      <td>53.1000</td>\n",
       "      <td>1</td>\n",
       "    </tr>\n",
       "    <tr>\n",
       "      <th>4</th>\n",
       "      <td>1</td>\n",
       "      <td>2</td>\n",
       "      <td>3</td>\n",
       "      <td>35</td>\n",
       "      <td>0</td>\n",
       "      <td>0</td>\n",
       "      <td>8.0500</td>\n",
       "      <td>0</td>\n",
       "    </tr>\n",
       "  </tbody>\n",
       "</table>\n",
       "</div>"
      ],
      "text/plain": [
       "   Sex  Embarked  Pclass  Age  SibSp  Parch     Fare  Survived\n",
       "0    1         2       3   22      1      0   7.2500         0\n",
       "1    0         0       1   38      1      0  71.2833         1\n",
       "2    0         2       3   26      0      0   7.9250         1\n",
       "3    0         2       1   35      1      0  53.1000         1\n",
       "4    1         2       3   35      0      0   8.0500         0"
      ]
     },
     "execution_count": 12,
     "metadata": {},
     "output_type": "execute_result"
    }
   ],
   "source": [
    "label = LabelEncoder()\n",
    "dados_transf = pd.DataFrame()\n",
    "dados_transf['Sex'] = label.fit_transform(dados['Sex'])\n",
    "dados_transf['Embarked'] = label.fit_transform(dados['Embarked'])\n",
    "#dados_transf['Cabin'] = label.fit_transform(dados['Cabin'])\n",
    "dados_transf = pd.concat([dados_transf,\n",
    "                          dados['Pclass'],\n",
    "                          dados['Age'], \n",
    "                          dados['SibSp'],\n",
    "                          dados['Parch'],\n",
    "                          dados['Fare'],\n",
    "                          dados['Survived']],\n",
    "                         axis = 1)\n",
    "dados_transf.head()"
   ]
  },
  {
   "cell_type": "markdown",
   "id": "31455fdb-cce5-442f-8b88-cfe83fbfefcb",
   "metadata": {},
   "source": [
    "# Preparação do modelo"
   ]
  },
  {
   "cell_type": "code",
   "execution_count": 13,
   "id": "ef604900-f205-483d-91ea-73c0bd8a8a4a",
   "metadata": {},
   "outputs": [],
   "source": [
    "previsor = dados_transf.iloc[:,0:7]\n",
    "classe = dados_transf.iloc[:,7]"
   ]
  },
  {
   "cell_type": "code",
   "execution_count": 14,
   "id": "dcb5f1d8-4333-4f88-a337-241be9b3d1e8",
   "metadata": {},
   "outputs": [],
   "source": [
    "x_treino, x_teste, y_treino, y_teste = train_test_split(previsor, classe, \n",
    "                                                        test_size = 0.3,\n",
    "                                                        random_state = 0)"
   ]
  },
  {
   "cell_type": "markdown",
   "id": "6dcf718b-7f53-4b8c-8278-f58630345ffb",
   "metadata": {},
   "source": [
    "# Treinando modelo sem balanceamento"
   ]
  },
  {
   "cell_type": "markdown",
   "id": "6f64dd15-ad28-4216-a2c0-f110fdaf4988",
   "metadata": {},
   "source": [
    "#### Modelo SVC DESBALANCEADO"
   ]
  },
  {
   "cell_type": "code",
   "execution_count": 15,
   "id": "25e9ea85-ad26-4bad-a5ae-a1d7ed6aadaf",
   "metadata": {},
   "outputs": [
    {
     "name": "stdout",
     "output_type": "stream",
     "text": [
      "Taxa de acerto: 32.00\n"
     ]
    }
   ],
   "source": [
    "#Descobrindo a taxa de acerto do modelo SVC\n",
    "svm_desb = svm.SVC(random_state=0)\n",
    "svm_desb.fit(x_treino, y_treino)\n",
    "\n",
    "svm_prev_desb = svm_desb.predict(x_teste)\n",
    "taxa_acerto_svc_desb = recall_score(y_teste, svm_prev_desb)\n",
    "print(f'Taxa de acerto: {taxa_acerto_svc_desb*100:.2f}')"
   ]
  },
  {
   "cell_type": "code",
   "execution_count": 16,
   "id": "19247a37-5f3a-4a08-b4eb-80073f442b3a",
   "metadata": {},
   "outputs": [
    {
     "name": "stdout",
     "output_type": "stream",
     "text": [
      "Matriz de confusão\n",
      " [[160   8]\n",
      " [ 68  32]]\n"
     ]
    }
   ],
   "source": [
    "svm_desbalanceado = confusion_matrix(y_teste, \n",
    "                                     svm_prev_desb)\n",
    "print('Matriz de confusão\\n', svm_desbalanceado)"
   ]
  },
  {
   "cell_type": "markdown",
   "id": "477dcda8-0f50-47cf-86f7-e193aa7a6bdc",
   "metadata": {},
   "source": [
    "#### Modelo ExtraTreesClassifier DESBALANCEADO"
   ]
  },
  {
   "cell_type": "code",
   "execution_count": 17,
   "id": "7c737348-e728-4dd3-b61b-cee19f1bf321",
   "metadata": {},
   "outputs": [
    {
     "name": "stdout",
     "output_type": "stream",
     "text": [
      "Taxa média de acerto: 72.00\n"
     ]
    }
   ],
   "source": [
    "#Descobrindo a média de acerto do modelo\n",
    "media_ETC_desb = []\n",
    "\n",
    "for i in range(11):\n",
    "    et_desb = ExtraTreesClassifier(random_state = 1)\n",
    "    et_desb.fit(x_treino, y_treino)\n",
    "    prev_et_desb = et_desb.predict(x_teste)\n",
    "    media_ETC_desb.append(recall_score(y_teste, prev_et_desb))\n",
    "    \n",
    "taxa_acerto_etc_media = np.mean(media_ETC_desb)\n",
    "print(f'Taxa média de acerto: {taxa_acerto_etc_media*100:.2f}')"
   ]
  },
  {
   "cell_type": "code",
   "execution_count": 18,
   "id": "8b61d3da-ee08-4670-a805-fb5ff10a7a49",
   "metadata": {},
   "outputs": [
    {
     "name": "stdout",
     "output_type": "stream",
     "text": [
      "Matriz de confusão\n",
      " [[143  25]\n",
      " [ 28  72]]\n"
     ]
    }
   ],
   "source": [
    "et_desbalanceado = confusion_matrix(y_teste, \n",
    "                                    prev_et_desb)\n",
    "print('Matriz de confusão\\n', et_desbalanceado)"
   ]
  },
  {
   "cell_type": "markdown",
   "id": "7a823793-183d-4407-b0b9-7b81e81de076",
   "metadata": {},
   "source": [
    "#### Modelo RandomForestClassifier DESBALANCEADO"
   ]
  },
  {
   "cell_type": "code",
   "execution_count": 19,
   "id": "3c291a76-4df4-43a3-b325-01584ebd2ab9",
   "metadata": {},
   "outputs": [
    {
     "name": "stdout",
     "output_type": "stream",
     "text": [
      "Taxa média de acerto: 74.00\n"
     ]
    }
   ],
   "source": [
    "#Descobrindo a média de acerto do modelo\n",
    "media_rfc_desb = []\n",
    "\n",
    "for i in range(11):\n",
    "    rfc_desb = RandomForestClassifier(random_state=i)\n",
    "    rfc_desb.fit(x_treino, y_treino)\n",
    "    prev_rfc_desb = rfc_desb.predict(x_teste)\n",
    "    media_rfc_desb.append(recall_score(y_teste, prev_rfc_desb))\n",
    "\n",
    "taxa_acerto_rfc_media = np.mean(media_rfc_desb)\n",
    "print(f'Taxa média de acerto: {taxa_acerto_rfc_media*100:.2f}')"
   ]
  },
  {
   "cell_type": "code",
   "execution_count": 20,
   "id": "3d16b93f-47f4-4232-a852-6c86ab4c179c",
   "metadata": {},
   "outputs": [
    {
     "name": "stdout",
     "output_type": "stream",
     "text": [
      "Matriz de confusão\n",
      " [[145  23]\n",
      " [ 25  75]]\n"
     ]
    }
   ],
   "source": [
    "rf_desbalanceado = confusion_matrix(y_teste,\n",
    "                                    prev_rfc_desb)\n",
    "print('Matriz de confusão\\n', rf_desbalanceado)"
   ]
  },
  {
   "cell_type": "markdown",
   "id": "566252a8-514f-4f64-a0af-3790b1c8b5bf",
   "metadata": {},
   "source": [
    "### Fazendo balanceamento OverSample "
   ]
  },
  {
   "cell_type": "code",
   "execution_count": 21,
   "id": "09f9a0d5-f09f-409b-8768-e4b1b9bb468b",
   "metadata": {},
   "outputs": [],
   "source": [
    "os = RandomOverSampler(random_state = 0)\n",
    "x_res, y_res = os.fit_resample(x_treino,\n",
    "                               y_treino)"
   ]
  },
  {
   "cell_type": "markdown",
   "id": "68922cbd-d0c5-4449-9a55-7d8a42e0bb95",
   "metadata": {},
   "source": [
    "# Treinando modelo com balanceamento"
   ]
  },
  {
   "cell_type": "markdown",
   "id": "5f41fe04-21aa-47f9-9f6a-5f404d2b0b34",
   "metadata": {},
   "source": [
    "#### Modelo SVC BALANCEADO"
   ]
  },
  {
   "cell_type": "code",
   "execution_count": 22,
   "id": "fb3bfe34-e8e6-42c6-9472-ebc3556a91a3",
   "metadata": {},
   "outputs": [
    {
     "name": "stdout",
     "output_type": "stream",
     "text": [
      "Taxa de acerto: 32.00\n"
     ]
    }
   ],
   "source": [
    "#Descobrindo a taxa de acerto do modelo\n",
    "svm_balanc = svm.SVC(random_state = 0)\n",
    "svm_balanc.fit(x_treino, y_treino)\n",
    "\n",
    "prev_svm_balanc = svm_balanc.predict(x_teste)\n",
    "taxa_acerto_svm_balanc = recall_score(y_teste, prev_svm_balanc)\n",
    "print(f'Taxa de acerto: {taxa_acerto_svm_balanc*100:.2f}')"
   ]
  },
  {
   "cell_type": "code",
   "execution_count": 23,
   "id": "2c35dc3b-3de3-41f1-a75a-877e35e1999b",
   "metadata": {},
   "outputs": [
    {
     "name": "stdout",
     "output_type": "stream",
     "text": [
      "Matriz de confusão\n",
      " [[160   8]\n",
      " [ 68  32]]\n"
     ]
    }
   ],
   "source": [
    "svm_balanceado = confusion_matrix(y_teste,\n",
    "                                  prev_svm_balanc)\n",
    "print('Matriz de confusão\\n', svm_balanceado)"
   ]
  },
  {
   "cell_type": "markdown",
   "id": "fe3f7928-f9af-4c0f-a1f2-2f64b889f850",
   "metadata": {},
   "source": [
    "#### Modelo ExtraTreesClassifier BALANCEADO"
   ]
  },
  {
   "cell_type": "code",
   "execution_count": 24,
   "id": "9a7753e2-71eb-407f-82d5-980e94bb14a2",
   "metadata": {},
   "outputs": [
    {
     "name": "stdout",
     "output_type": "stream",
     "text": [
      "Taxa de acerto: 71.00\n"
     ]
    }
   ],
   "source": [
    "media_etc_balanc = []\n",
    "\n",
    "for i in range(11):\n",
    "    etc_balanc = ExtraTreesClassifier(random_state=i)\n",
    "    etc_balanc.fit(x_treino, y_treino)\n",
    "    prev_etc_balanc = etc_balanc.predict(x_teste)\n",
    "    media_etc_balanc.append(recall_score(y_teste, prev_etc_balanc))\n",
    "    \n",
    "taxa_acerto_etc_balanc = np.mean(media_etc_balanc)\n",
    "\n",
    "print(f'Taxa de acerto: {taxa_acerto_etc_balanc*100:.2f}')"
   ]
  },
  {
   "cell_type": "code",
   "execution_count": 25,
   "id": "f62cd4f9-565b-40ee-8dc3-9386652d8113",
   "metadata": {},
   "outputs": [
    {
     "name": "stdout",
     "output_type": "stream",
     "text": [
      "Matriz de confusão\n",
      " [[146  22]\n",
      " [ 29  71]]\n"
     ]
    }
   ],
   "source": [
    "et_balanceado = confusion_matrix(y_teste,\n",
    "                                 prev_etc_balanc)\n",
    "print('Matriz de confusão\\n', et_balanceado)"
   ]
  },
  {
   "cell_type": "markdown",
   "id": "2bc35253-7d1c-4124-a090-745e424d2052",
   "metadata": {},
   "source": [
    "#### Modelo RandomForestClassifier BALANCEADO"
   ]
  },
  {
   "cell_type": "code",
   "execution_count": 26,
   "id": "27cbf470-843f-4f00-8d95-ee07975c3fbc",
   "metadata": {},
   "outputs": [
    {
     "name": "stdout",
     "output_type": "stream",
     "text": [
      "Taxa de acerto: 74.00\n"
     ]
    }
   ],
   "source": [
    "media_rfc_balanc = []\n",
    "for i in range(11):\n",
    "    rfc_balanc = RandomForestClassifier(random_state=i)\n",
    "    rfc_balanc.fit(x_treino, y_treino)\n",
    "    prev_rfc_balanc = rfc_balanc.predict(x_teste)\n",
    "    media_rfc_balanc.append(recall_score(y_teste, prev_rfc_balanc))\n",
    "    \n",
    "taxa_acerto_rfc_balanc = np.mean(media_rfc_balanc)\n",
    "\n",
    "print(f'Taxa de acerto: {taxa_acerto_rfc_balanc*100:.2f}')"
   ]
  },
  {
   "cell_type": "code",
   "execution_count": 27,
   "id": "6fdf667f-dd73-4b1e-a6f8-1604c8374fb5",
   "metadata": {},
   "outputs": [
    {
     "name": "stdout",
     "output_type": "stream",
     "text": [
      "Matriz de confusão\n",
      " [[145  23]\n",
      " [ 25  75]]\n"
     ]
    }
   ],
   "source": [
    "rf_balanceado = confusion_matrix(y_teste, prev_rfc_balanc)\n",
    "print('Matriz de confusão\\n', rf_balanceado) "
   ]
  },
  {
   "cell_type": "markdown",
   "id": "8d4812aa-dd34-4a37-9b89-e27a00ac1b5d",
   "metadata": {},
   "source": [
    "### Escolha do modelo \n",
    "\n",
    "O modelo escolhido será o Random Forest Classifier, devido a taxa de acerto ser de 73%, independente do balanceamento"
   ]
  },
  {
   "cell_type": "code",
   "execution_count": 28,
   "id": "f145f581-270f-42fe-89c0-12591d657e96",
   "metadata": {},
   "outputs": [],
   "source": [
    "importancia = rfc_balanc.feature_importances_\n",
    "importancia = np.round(importancia*100, decimals=2)"
   ]
  },
  {
   "cell_type": "code",
   "execution_count": 29,
   "id": "73d3f158-86e0-4e19-b23a-ff524de4d10c",
   "metadata": {},
   "outputs": [
    {
     "name": "stdout",
     "output_type": "stream",
     "text": [
      " Colunas: ['Sex', 'Embarked', 'Pclass', 'Age', 'SibSp', 'Parch', 'Fare'] \n",
      " Imporância: [26.42  4.13  8.6  25.68  5.39  3.82 25.97]\n"
     ]
    }
   ],
   "source": [
    "print(' Colunas:', previsor.columns.to_list(), '\\n','Imporância:', importancia )"
   ]
  },
  {
   "cell_type": "markdown",
   "id": "7e790218-2acc-4019-a4ce-3a19a11f56e2",
   "metadata": {},
   "source": [
    "# Carregando os dados de previsão"
   ]
  },
  {
   "cell_type": "code",
   "execution_count": 30,
   "id": "e3b082e6-67ff-42c6-8bfb-fad106acce5a",
   "metadata": {},
   "outputs": [
    {
     "name": "stdout",
     "output_type": "stream",
     "text": [
      "<class 'pandas.core.frame.DataFrame'>\n",
      "RangeIndex: 418 entries, 0 to 417\n",
      "Data columns (total 11 columns):\n",
      " #   Column       Non-Null Count  Dtype  \n",
      "---  ------       --------------  -----  \n",
      " 0   PassengerId  418 non-null    int64  \n",
      " 1   Pclass       418 non-null    int64  \n",
      " 2   Name         418 non-null    object \n",
      " 3   Sex          418 non-null    object \n",
      " 4   Age          332 non-null    float64\n",
      " 5   SibSp        418 non-null    int64  \n",
      " 6   Parch        418 non-null    int64  \n",
      " 7   Ticket       418 non-null    object \n",
      " 8   Fare         417 non-null    float64\n",
      " 9   Cabin        91 non-null     object \n",
      " 10  Embarked     418 non-null    object \n",
      "dtypes: float64(2), int64(4), object(5)\n",
      "memory usage: 36.0+ KB\n"
     ]
    }
   ],
   "source": [
    "dados_prev = pd.read_csv('test.csv')\n",
    "dados_prev.info()"
   ]
  },
  {
   "cell_type": "markdown",
   "id": "e2bad66e-db49-487e-b0e0-6868dea3ce40",
   "metadata": {},
   "source": [
    "### tratamento de dados faltantes"
   ]
  },
  {
   "cell_type": "code",
   "execution_count": 31,
   "id": "dcf20dc8-74f1-4a31-8d15-264c7321ca40",
   "metadata": {},
   "outputs": [
    {
     "data": {
      "text/plain": [
       "<Axes: xlabel='Age', ylabel='Count'>"
      ]
     },
     "execution_count": 31,
     "metadata": {},
     "output_type": "execute_result"
    },
    {
     "data": {
      "image/png": "[encoded data removed]",
      "text/plain": [
       "<Figure size 640x480 with 1 Axes>"
      ]
     },
     "metadata": {},
     "output_type": "display_data"
    }
   ],
   "source": [
    "#Plotando a distribuição de idade\n",
    "sns.histplot(data = dados_prev, x = 'Age')"
   ]
  },
  {
   "cell_type": "code",
   "execution_count": 32,
   "id": "412d7c4f-e962-4430-b124-3363d9ed58fa",
   "metadata": {},
   "outputs": [],
   "source": [
    "#Substituindo valores faltantes pela média\n",
    "media = round(np.mean(dados_prev['Age']),0)\n",
    "dados_prev['Age'].fillna(media, inplace=True)\n",
    "\n",
    "#Convertendo float para int\n",
    "dados_prev['Age']=dados_prev['Age'].astype(int)"
   ]
  },
  {
   "cell_type": "code",
   "execution_count": 33,
   "id": "2bfc53d3-97e7-4485-b8b8-009c17274dfa",
   "metadata": {},
   "outputs": [
    {
     "data": {
      "text/plain": [
       "<Axes: xlabel='Fare', ylabel='Count'>"
      ]
     },
     "execution_count": 33,
     "metadata": {},
     "output_type": "execute_result"
    },
    {
     "data": {
      "image/png": "[encoded data removed]",
      "text/plain": [
       "<Figure size 640x480 with 1 Axes>"
      ]
     },
     "metadata": {},
     "output_type": "display_data"
    }
   ],
   "source": [
    "#Plotando a distibuição de Fare\n",
    "sns.histplot(data = dados_prev, x = 'Fare')"
   ]
  },
  {
   "cell_type": "code",
   "execution_count": 34,
   "id": "0845f38b-a048-4488-9ded-bd0abc15c7b7",
   "metadata": {},
   "outputs": [],
   "source": [
    "#Substituindo valores faltantes pela média\n",
    "media = np.mean(dados_prev['Fare'])\n",
    "dados_prev['Fare'].fillna(media, inplace=True)"
   ]
  },
  {
   "cell_type": "code",
   "execution_count": 35,
   "id": "00d1f5d1-f3c4-41fc-8f48-c74416bf330f",
   "metadata": {},
   "outputs": [
    {
     "name": "stdout",
     "output_type": "stream",
     "text": [
      "<class 'pandas.core.frame.DataFrame'>\n",
      "RangeIndex: 418 entries, 0 to 417\n",
      "Data columns (total 11 columns):\n",
      " #   Column       Non-Null Count  Dtype  \n",
      "---  ------       --------------  -----  \n",
      " 0   PassengerId  418 non-null    int64  \n",
      " 1   Pclass       418 non-null    int64  \n",
      " 2   Name         418 non-null    object \n",
      " 3   Sex          418 non-null    object \n",
      " 4   Age          418 non-null    int32  \n",
      " 5   SibSp        418 non-null    int64  \n",
      " 6   Parch        418 non-null    int64  \n",
      " 7   Ticket       418 non-null    object \n",
      " 8   Fare         418 non-null    float64\n",
      " 9   Cabin        91 non-null     object \n",
      " 10  Embarked     418 non-null    object \n",
      "dtypes: float64(1), int32(1), int64(4), object(5)\n",
      "memory usage: 34.4+ KB\n"
     ]
    }
   ],
   "source": [
    "dados_prev.info()"
   ]
  },
  {
   "cell_type": "code",
   "execution_count": 36,
   "id": "62c77f2d-5724-441b-a4ca-63414df80bba",
   "metadata": {},
   "outputs": [
    {
     "data": {
      "text/html": [
       "<div>\n",
       "<style scoped>\n",
       "    .dataframe tbody tr th:only-of-type {\n",
       "        vertical-align: middle;\n",
       "    }\n",
       "\n",
       "    .dataframe tbody tr th {\n",
       "        vertical-align: top;\n",
       "    }\n",
       "\n",
       "    .dataframe thead th {\n",
       "        text-align: right;\n",
       "    }\n",
       "</style>\n",
       "<table border=\"1\" class=\"dataframe\">\n",
       "  <thead>\n",
       "    <tr style=\"text-align: right;\">\n",
       "      <th></th>\n",
       "      <th>Sex</th>\n",
       "      <th>Embarked</th>\n",
       "      <th>Pclass</th>\n",
       "      <th>Age</th>\n",
       "      <th>SibSp</th>\n",
       "      <th>Parch</th>\n",
       "      <th>Fare</th>\n",
       "    </tr>\n",
       "  </thead>\n",
       "  <tbody>\n",
       "    <tr>\n",
       "      <th>0</th>\n",
       "      <td>1</td>\n",
       "      <td>1</td>\n",
       "      <td>3</td>\n",
       "      <td>34</td>\n",
       "      <td>0</td>\n",
       "      <td>0</td>\n",
       "      <td>7.8292</td>\n",
       "    </tr>\n",
       "    <tr>\n",
       "      <th>1</th>\n",
       "      <td>0</td>\n",
       "      <td>2</td>\n",
       "      <td>3</td>\n",
       "      <td>47</td>\n",
       "      <td>1</td>\n",
       "      <td>0</td>\n",
       "      <td>7.0000</td>\n",
       "    </tr>\n",
       "    <tr>\n",
       "      <th>2</th>\n",
       "      <td>1</td>\n",
       "      <td>1</td>\n",
       "      <td>2</td>\n",
       "      <td>62</td>\n",
       "      <td>0</td>\n",
       "      <td>0</td>\n",
       "      <td>9.6875</td>\n",
       "    </tr>\n",
       "    <tr>\n",
       "      <th>3</th>\n",
       "      <td>1</td>\n",
       "      <td>2</td>\n",
       "      <td>3</td>\n",
       "      <td>27</td>\n",
       "      <td>0</td>\n",
       "      <td>0</td>\n",
       "      <td>8.6625</td>\n",
       "    </tr>\n",
       "    <tr>\n",
       "      <th>4</th>\n",
       "      <td>0</td>\n",
       "      <td>2</td>\n",
       "      <td>3</td>\n",
       "      <td>22</td>\n",
       "      <td>1</td>\n",
       "      <td>1</td>\n",
       "      <td>12.2875</td>\n",
       "    </tr>\n",
       "    <tr>\n",
       "      <th>...</th>\n",
       "      <td>...</td>\n",
       "      <td>...</td>\n",
       "      <td>...</td>\n",
       "      <td>...</td>\n",
       "      <td>...</td>\n",
       "      <td>...</td>\n",
       "      <td>...</td>\n",
       "    </tr>\n",
       "    <tr>\n",
       "      <th>413</th>\n",
       "      <td>1</td>\n",
       "      <td>2</td>\n",
       "      <td>3</td>\n",
       "      <td>30</td>\n",
       "      <td>0</td>\n",
       "      <td>0</td>\n",
       "      <td>8.0500</td>\n",
       "    </tr>\n",
       "    <tr>\n",
       "      <th>414</th>\n",
       "      <td>0</td>\n",
       "      <td>0</td>\n",
       "      <td>1</td>\n",
       "      <td>39</td>\n",
       "      <td>0</td>\n",
       "      <td>0</td>\n",
       "      <td>108.9000</td>\n",
       "    </tr>\n",
       "    <tr>\n",
       "      <th>415</th>\n",
       "      <td>1</td>\n",
       "      <td>2</td>\n",
       "      <td>3</td>\n",
       "      <td>38</td>\n",
       "      <td>0</td>\n",
       "      <td>0</td>\n",
       "      <td>7.2500</td>\n",
       "    </tr>\n",
       "    <tr>\n",
       "      <th>416</th>\n",
       "      <td>1</td>\n",
       "      <td>2</td>\n",
       "      <td>3</td>\n",
       "      <td>30</td>\n",
       "      <td>0</td>\n",
       "      <td>0</td>\n",
       "      <td>8.0500</td>\n",
       "    </tr>\n",
       "    <tr>\n",
       "      <th>417</th>\n",
       "      <td>1</td>\n",
       "      <td>0</td>\n",
       "      <td>3</td>\n",
       "      <td>30</td>\n",
       "      <td>1</td>\n",
       "      <td>1</td>\n",
       "      <td>22.3583</td>\n",
       "    </tr>\n",
       "  </tbody>\n",
       "</table>\n",
       "<p>418 rows × 7 columns</p>\n",
       "</div>"
      ],
      "text/plain": [
       "     Sex  Embarked  Pclass  Age  SibSp  Parch      Fare\n",
       "0      1         1       3   34      0      0    7.8292\n",
       "1      0         2       3   47      1      0    7.0000\n",
       "2      1         1       2   62      0      0    9.6875\n",
       "3      1         2       3   27      0      0    8.6625\n",
       "4      0         2       3   22      1      1   12.2875\n",
       "..   ...       ...     ...  ...    ...    ...       ...\n",
       "413    1         2       3   30      0      0    8.0500\n",
       "414    0         0       1   39      0      0  108.9000\n",
       "415    1         2       3   38      0      0    7.2500\n",
       "416    1         2       3   30      0      0    8.0500\n",
       "417    1         0       3   30      1      1   22.3583\n",
       "\n",
       "[418 rows x 7 columns]"
      ]
     },
     "execution_count": 36,
     "metadata": {},
     "output_type": "execute_result"
    }
   ],
   "source": [
    "#Criando um DataFrame com os valores convertidos para previsão\n",
    "prev_transform = pd.DataFrame()\n",
    "prev_transform['Sex'] = label.fit_transform(dados_prev['Sex'])\n",
    "prev_transform['Embarked'] = label.fit_transform(dados_prev['Embarked'])\n",
    "\n",
    "dados_prev_transform = pd.concat([prev_transform,\n",
    "                                  dados_prev['Pclass'],\n",
    "                                  dados_prev['Age'], \n",
    "                                  dados_prev['SibSp'],\n",
    "                                  dados_prev['Parch'],\n",
    "                                  dados_prev['Fare']],\n",
    "                                 axis=1)\n",
    "\n",
    "dados_prev_transform"
   ]
  },
  {
   "cell_type": "code",
   "execution_count": 37,
   "id": "c80a275c-0798-412c-8958-dcbfaf814ebc",
   "metadata": {},
   "outputs": [
    {
     "data": {
      "text/plain": [
       "418"
      ]
     },
     "execution_count": 37,
     "metadata": {},
     "output_type": "execute_result"
    }
   ],
   "source": [
    "p_survived = {'Survived' : rfc_desb.predict(dados_prev_transform)}\n",
    "len(rfc_desb.predict(dados_prev_transform))"
   ]
  },
  {
   "cell_type": "code",
   "execution_count": 47,
   "id": "9cdc407d-8c09-4e44-bbd8-2078f8fa80a2",
   "metadata": {},
   "outputs": [
    {
     "data": {
      "text/html": [
       "<div>\n",
       "<style scoped>\n",
       "    .dataframe tbody tr th:only-of-type {\n",
       "        vertical-align: middle;\n",
       "    }\n",
       "\n",
       "    .dataframe tbody tr th {\n",
       "        vertical-align: top;\n",
       "    }\n",
       "\n",
       "    .dataframe thead th {\n",
       "        text-align: right;\n",
       "    }\n",
       "</style>\n",
       "<table border=\"1\" class=\"dataframe\">\n",
       "  <thead>\n",
       "    <tr style=\"text-align: right;\">\n",
       "      <th></th>\n",
       "      <th>PassengerId</th>\n",
       "      <th>Survived</th>\n",
       "    </tr>\n",
       "  </thead>\n",
       "  <tbody>\n",
       "    <tr>\n",
       "      <th>0</th>\n",
       "      <td>892</td>\n",
       "      <td>0</td>\n",
       "    </tr>\n",
       "    <tr>\n",
       "      <th>1</th>\n",
       "      <td>893</td>\n",
       "      <td>0</td>\n",
       "    </tr>\n",
       "    <tr>\n",
       "      <th>2</th>\n",
       "      <td>894</td>\n",
       "      <td>0</td>\n",
       "    </tr>\n",
       "    <tr>\n",
       "      <th>3</th>\n",
       "      <td>895</td>\n",
       "      <td>1</td>\n",
       "    </tr>\n",
       "    <tr>\n",
       "      <th>4</th>\n",
       "      <td>896</td>\n",
       "      <td>0</td>\n",
       "    </tr>\n",
       "    <tr>\n",
       "      <th>...</th>\n",
       "      <td>...</td>\n",
       "      <td>...</td>\n",
       "    </tr>\n",
       "    <tr>\n",
       "      <th>413</th>\n",
       "      <td>1305</td>\n",
       "      <td>0</td>\n",
       "    </tr>\n",
       "    <tr>\n",
       "      <th>414</th>\n",
       "      <td>1306</td>\n",
       "      <td>1</td>\n",
       "    </tr>\n",
       "    <tr>\n",
       "      <th>415</th>\n",
       "      <td>1307</td>\n",
       "      <td>0</td>\n",
       "    </tr>\n",
       "    <tr>\n",
       "      <th>416</th>\n",
       "      <td>1308</td>\n",
       "      <td>0</td>\n",
       "    </tr>\n",
       "    <tr>\n",
       "      <th>417</th>\n",
       "      <td>1309</td>\n",
       "      <td>0</td>\n",
       "    </tr>\n",
       "  </tbody>\n",
       "</table>\n",
       "<p>418 rows × 2 columns</p>\n",
       "</div>"
      ],
      "text/plain": [
       "     PassengerId  Survived\n",
       "0            892         0\n",
       "1            893         0\n",
       "2            894         0\n",
       "3            895         1\n",
       "4            896         0\n",
       "..           ...       ...\n",
       "413         1305         0\n",
       "414         1306         1\n",
       "415         1307         0\n",
       "416         1308         0\n",
       "417         1309         0\n",
       "\n",
       "[418 rows x 2 columns]"
      ]
     },
     "execution_count": 47,
     "metadata": {},
     "output_type": "execute_result"
    }
   ],
   "source": [
    "previsao_submit = pd.DataFrame(p_survived)\n",
    "previsao_submit = pd.concat([dados_prev['PassengerId'], previsao_submit], axis=1)\n",
    "previsao_submit"
   ]
  },
  {
   "cell_type": "code",
   "execution_count": 65,
   "id": "e102ca09-d204-4bad-a8a8-804b0d790366",
   "metadata": {},
   "outputs": [],
   "source": [
    "previsao_submit.to_csv('Sub.csv', index=False)"
   ]
  },
  {
   "cell_type": "code",
   "execution_count": 66,
   "id": "bd739f32-9255-4176-a2ec-59bde33a6baa",
   "metadata": {},
   "outputs": [
    {
     "data": {
      "text/html": [
       "<div>\n",
       "<style scoped>\n",
       "    .dataframe tbody tr th:only-of-type {\n",
       "        vertical-align: middle;\n",
       "    }\n",
       "\n",
       "    .dataframe tbody tr th {\n",
       "        vertical-align: top;\n",
       "    }\n",
       "\n",
       "    .dataframe thead th {\n",
       "        text-align: right;\n",
       "    }\n",
       "</style>\n",
       "<table border=\"1\" class=\"dataframe\">\n",
       "  <thead>\n",
       "    <tr style=\"text-align: right;\">\n",
       "      <th></th>\n",
       "      <th>PassengerId</th>\n",
       "      <th>Survived</th>\n",
       "    </tr>\n",
       "  </thead>\n",
       "  <tbody>\n",
       "    <tr>\n",
       "      <th>0</th>\n",
       "      <td>892</td>\n",
       "      <td>0</td>\n",
       "    </tr>\n",
       "    <tr>\n",
       "      <th>1</th>\n",
       "      <td>893</td>\n",
       "      <td>0</td>\n",
       "    </tr>\n",
       "    <tr>\n",
       "      <th>2</th>\n",
       "      <td>894</td>\n",
       "      <td>0</td>\n",
       "    </tr>\n",
       "    <tr>\n",
       "      <th>3</th>\n",
       "      <td>895</td>\n",
       "      <td>1</td>\n",
       "    </tr>\n",
       "    <tr>\n",
       "      <th>4</th>\n",
       "      <td>896</td>\n",
       "      <td>0</td>\n",
       "    </tr>\n",
       "    <tr>\n",
       "      <th>...</th>\n",
       "      <td>...</td>\n",
       "      <td>...</td>\n",
       "    </tr>\n",
       "    <tr>\n",
       "      <th>413</th>\n",
       "      <td>1305</td>\n",
       "      <td>0</td>\n",
       "    </tr>\n",
       "    <tr>\n",
       "      <th>414</th>\n",
       "      <td>1306</td>\n",
       "      <td>1</td>\n",
       "    </tr>\n",
       "    <tr>\n",
       "      <th>415</th>\n",
       "      <td>1307</td>\n",
       "      <td>0</td>\n",
       "    </tr>\n",
       "    <tr>\n",
       "      <th>416</th>\n",
       "      <td>1308</td>\n",
       "      <td>0</td>\n",
       "    </tr>\n",
       "    <tr>\n",
       "      <th>417</th>\n",
       "      <td>1309</td>\n",
       "      <td>0</td>\n",
       "    </tr>\n",
       "  </tbody>\n",
       "</table>\n",
       "<p>418 rows × 2 columns</p>\n",
       "</div>"
      ],
      "text/plain": [
       "     PassengerId  Survived\n",
       "0            892         0\n",
       "1            893         0\n",
       "2            894         0\n",
       "3            895         1\n",
       "4            896         0\n",
       "..           ...       ...\n",
       "413         1305         0\n",
       "414         1306         1\n",
       "415         1307         0\n",
       "416         1308         0\n",
       "417         1309         0\n",
       "\n",
       "[418 rows x 2 columns]"
      ]
     },
     "execution_count": 66,
     "metadata": {},
     "output_type": "execute_result"
    }
   ],
   "source": [
    "pd.read_csv('Sub.csv')"
   ]
  },
  {
   "cell_type": "code",
   "execution_count": null,
   "id": "0f420dc1-4361-403f-9400-a6babd590349",
   "metadata": {},
   "outputs": [],
   "source": []
  }
 ],
 "metadata": {
  "kernelspec": {
   "display_name": "Python 3 (ipykernel)",
   "language": "python",
   "name": "python3"
  },
  "language_info": {
   "codemirror_mode": {
    "name": "ipython",
    "version": 3
   },
   "file_extension": ".py",
   "mimetype": "text/x-python",
   "name": "python",
   "nbconvert_exporter": "python",
   "pygments_lexer": "ipython3",
   "version": "3.10.9"
  }
 },
 "nbformat": 4,
 "nbformat_minor": 5
}
