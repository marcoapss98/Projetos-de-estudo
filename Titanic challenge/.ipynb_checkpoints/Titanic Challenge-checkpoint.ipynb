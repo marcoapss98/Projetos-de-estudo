{
 "cells": [
  {
   "cell_type": "markdown",
   "id": "c6b33019-f031-4b66-a64b-52e54a19b549",
   "metadata": {},
   "source": [
    "### Dataset Description\n",
    "Overview\n",
    "The data has been split into two groups:\n",
    "\n",
    "training set (train.csv)\n",
    "test set (test.csv)\n",
    "The training set should be used to build your machine learning models. For the training set, we provide the outcome (also known as the “ground truth”) for each passenger. Your model will be based on “features” like passengers’ gender and class. You can also use feature engineering to create new features.\n",
    "\n",
    "The test set should be used to see how well your model performs on unseen data. For the test set, we do not provide the ground truth for each passenger. It is your job to predict these outcomes. For each passenger in the test set, use the model you trained to predict whether or not they survived the sinking of the Titanic.\n",
    "\n",
    "We also include gender_submission.csv, a set of predictions that assume all and only female passengers survive, as an example of what a submission file should look like."
   ]
  },
  {
   "cell_type": "markdown",
   "id": "b1fd3b93-0baf-4fe4-9c79-e9ec71ec33ba",
   "metadata": {},
   "source": [
    "### Data Dictionary\n",
    "\n",
    "Variable|Definition|Key \n",
    "-|-|-\n",
    "survival|Survival| 0 = No, 1 = Yes     \n",
    "pclass|Ticket class|1 = 1st, 2 = 2nd, 3 = 3rd                \n",
    "sex|Sex|          \n",
    "Age|Age in years|\n",
    "sibsp|# of siblings / spouses aboard the Titanic |\n",
    "parch|# of parents / children aboard the Titanic |\n",
    "ticket|Ticket number|\n",
    "fare|Passenger fare|\n",
    "cabin|Cabin number|\n",
    "embarked|Port of Embarkation|C = Cherbourg, Q = Queenstown, S = Southampton"
   ]
  },
  {
   "cell_type": "markdown",
   "id": "6058de2a-e5cf-4893-865f-906841eeadec",
   "metadata": {},
   "source": [
    "# Importação das bibliotecas utilizadas"
   ]
  },
  {
   "cell_type": "code",
   "execution_count": 1,
   "id": "636a2e0c-cbac-4ec1-a3d9-59eeea5bdcae",
   "metadata": {},
   "outputs": [],
   "source": [
    "import pandas as pd\n",
    "import numpy as np\n",
    "from sklearn.preprocessing import LabelEncoder\n",
    "from sklearn.model_selection import train_test_split, KFold\n",
    "from sklearn import svm\n",
    "from sklearn.ensemble import ExtraTreesClassifier, RandomForestClassifier\n",
    "from sklearn.metrics import confusion_matrix, accuracy_score\n",
    "from imblearn.over_sampling import RandomOverSampler"
   ]
  },
  {
   "cell_type": "markdown",
   "id": "0f596930-637c-42bc-8909-ea48484f507c",
   "metadata": {},
   "source": [
    "# Importação da base, visualização e tratamento de dados"
   ]
  },
  {
   "cell_type": "code",
   "execution_count": 2,
   "id": "a712c645-63fa-43d3-96be-4162b688a79a",
   "metadata": {},
   "outputs": [
    {
     "data": {
      "text/html": [
       "<div>\n",
       "<style scoped>\n",
       "    .dataframe tbody tr th:only-of-type {\n",
       "        vertical-align: middle;\n",
       "    }\n",
       "\n",
       "    .dataframe tbody tr th {\n",
       "        vertical-align: top;\n",
       "    }\n",
       "\n",
       "    .dataframe thead th {\n",
       "        text-align: right;\n",
       "    }\n",
       "</style>\n",
       "<table border=\"1\" class=\"dataframe\">\n",
       "  <thead>\n",
       "    <tr style=\"text-align: right;\">\n",
       "      <th></th>\n",
       "      <th>PassengerId</th>\n",
       "      <th>Survived</th>\n",
       "      <th>Pclass</th>\n",
       "      <th>Name</th>\n",
       "      <th>Sex</th>\n",
       "      <th>Age</th>\n",
       "      <th>SibSp</th>\n",
       "      <th>Parch</th>\n",
       "      <th>Ticket</th>\n",
       "      <th>Fare</th>\n",
       "      <th>Cabin</th>\n",
       "      <th>Embarked</th>\n",
       "    </tr>\n",
       "  </thead>\n",
       "  <tbody>\n",
       "    <tr>\n",
       "      <th>0</th>\n",
       "      <td>1</td>\n",
       "      <td>0</td>\n",
       "      <td>3</td>\n",
       "      <td>Braund, Mr. Owen Harris</td>\n",
       "      <td>male</td>\n",
       "      <td>22.0</td>\n",
       "      <td>1</td>\n",
       "      <td>0</td>\n",
       "      <td>A/5 21171</td>\n",
       "      <td>7.2500</td>\n",
       "      <td>NaN</td>\n",
       "      <td>S</td>\n",
       "    </tr>\n",
       "    <tr>\n",
       "      <th>1</th>\n",
       "      <td>2</td>\n",
       "      <td>1</td>\n",
       "      <td>1</td>\n",
       "      <td>Cumings, Mrs. John Bradley (Florence Briggs Th...</td>\n",
       "      <td>female</td>\n",
       "      <td>38.0</td>\n",
       "      <td>1</td>\n",
       "      <td>0</td>\n",
       "      <td>PC 17599</td>\n",
       "      <td>71.2833</td>\n",
       "      <td>C85</td>\n",
       "      <td>C</td>\n",
       "    </tr>\n",
       "    <tr>\n",
       "      <th>2</th>\n",
       "      <td>3</td>\n",
       "      <td>1</td>\n",
       "      <td>3</td>\n",
       "      <td>Heikkinen, Miss. Laina</td>\n",
       "      <td>female</td>\n",
       "      <td>26.0</td>\n",
       "      <td>0</td>\n",
       "      <td>0</td>\n",
       "      <td>STON/O2. 3101282</td>\n",
       "      <td>7.9250</td>\n",
       "      <td>NaN</td>\n",
       "      <td>S</td>\n",
       "    </tr>\n",
       "    <tr>\n",
       "      <th>3</th>\n",
       "      <td>4</td>\n",
       "      <td>1</td>\n",
       "      <td>1</td>\n",
       "      <td>Futrelle, Mrs. Jacques Heath (Lily May Peel)</td>\n",
       "      <td>female</td>\n",
       "      <td>35.0</td>\n",
       "      <td>1</td>\n",
       "      <td>0</td>\n",
       "      <td>113803</td>\n",
       "      <td>53.1000</td>\n",
       "      <td>C123</td>\n",
       "      <td>S</td>\n",
       "    </tr>\n",
       "    <tr>\n",
       "      <th>4</th>\n",
       "      <td>5</td>\n",
       "      <td>0</td>\n",
       "      <td>3</td>\n",
       "      <td>Allen, Mr. William Henry</td>\n",
       "      <td>male</td>\n",
       "      <td>35.0</td>\n",
       "      <td>0</td>\n",
       "      <td>0</td>\n",
       "      <td>373450</td>\n",
       "      <td>8.0500</td>\n",
       "      <td>NaN</td>\n",
       "      <td>S</td>\n",
       "    </tr>\n",
       "  </tbody>\n",
       "</table>\n",
       "</div>"
      ],
      "text/plain": [
       "   PassengerId  Survived  Pclass  \\\n",
       "0            1         0       3   \n",
       "1            2         1       1   \n",
       "2            3         1       3   \n",
       "3            4         1       1   \n",
       "4            5         0       3   \n",
       "\n",
       "                                                Name     Sex   Age  SibSp  \\\n",
       "0                            Braund, Mr. Owen Harris    male  22.0      1   \n",
       "1  Cumings, Mrs. John Bradley (Florence Briggs Th...  female  38.0      1   \n",
       "2                             Heikkinen, Miss. Laina  female  26.0      0   \n",
       "3       Futrelle, Mrs. Jacques Heath (Lily May Peel)  female  35.0      1   \n",
       "4                           Allen, Mr. William Henry    male  35.0      0   \n",
       "\n",
       "   Parch            Ticket     Fare Cabin Embarked  \n",
       "0      0         A/5 21171   7.2500   NaN        S  \n",
       "1      0          PC 17599  71.2833   C85        C  \n",
       "2      0  STON/O2. 3101282   7.9250   NaN        S  \n",
       "3      0            113803  53.1000  C123        S  \n",
       "4      0            373450   8.0500   NaN        S  "
      ]
     },
     "execution_count": 2,
     "metadata": {},
     "output_type": "execute_result"
    }
   ],
   "source": [
    "dados = pd.read_csv('train.csv', sep = ',')\n",
    "dados.head()"
   ]
  },
  {
   "cell_type": "code",
   "execution_count": 3,
   "id": "08376f50-7304-4d5b-bee3-08250277c7e0",
   "metadata": {},
   "outputs": [],
   "source": [
    "dados = dados[['PassengerId', 'Pclass', 'Name', 'Sex', 'Age', 'SibSp',\n",
    "       'Parch', 'Ticket', 'Fare', 'Cabin', 'Embarked','Survived']]"
   ]
  },
  {
   "cell_type": "code",
   "execution_count": 4,
   "id": "1cc2f152-f3d8-4cbf-9099-17d0d73d9eb6",
   "metadata": {},
   "outputs": [
    {
     "name": "stdout",
     "output_type": "stream",
     "text": [
      "<class 'pandas.core.frame.DataFrame'>\n",
      "RangeIndex: 891 entries, 0 to 890\n",
      "Data columns (total 12 columns):\n",
      " #   Column       Non-Null Count  Dtype  \n",
      "---  ------       --------------  -----  \n",
      " 0   PassengerId  891 non-null    int64  \n",
      " 1   Pclass       891 non-null    int64  \n",
      " 2   Name         891 non-null    object \n",
      " 3   Sex          891 non-null    object \n",
      " 4   Age          714 non-null    float64\n",
      " 5   SibSp        891 non-null    int64  \n",
      " 6   Parch        891 non-null    int64  \n",
      " 7   Ticket       891 non-null    object \n",
      " 8   Fare         891 non-null    float64\n",
      " 9   Cabin        204 non-null    object \n",
      " 10  Embarked     889 non-null    object \n",
      " 11  Survived     891 non-null    int64  \n",
      "dtypes: float64(2), int64(5), object(5)\n",
      "memory usage: 83.7+ KB\n"
     ]
    }
   ],
   "source": [
    "dados.info()"
   ]
  },
  {
   "cell_type": "code",
   "execution_count": 5,
   "id": "fa1d68f5-e884-4dc3-9080-488201c75fa0",
   "metadata": {
    "tags": []
   },
   "outputs": [
    {
     "data": {
      "text/plain": [
       "count    891.000000\n",
       "mean      32.204208\n",
       "std       49.693429\n",
       "min        0.000000\n",
       "25%        7.910400\n",
       "50%       14.454200\n",
       "75%       31.000000\n",
       "max      512.329200\n",
       "Name: Fare, dtype: float64"
      ]
     },
     "execution_count": 5,
     "metadata": {},
     "output_type": "execute_result"
    }
   ],
   "source": [
    "dados['Fare'].describe()"
   ]
  },
  {
   "cell_type": "code",
   "execution_count": 6,
   "id": "9929e1cb-1e20-400e-aebf-40c795de5645",
   "metadata": {},
   "outputs": [
    {
     "data": {
      "text/plain": [
       "count    714.000000\n",
       "mean      29.699118\n",
       "std       14.526497\n",
       "min        0.420000\n",
       "25%       20.125000\n",
       "50%       28.000000\n",
       "75%       38.000000\n",
       "max       80.000000\n",
       "Name: Age, dtype: float64"
      ]
     },
     "execution_count": 6,
     "metadata": {},
     "output_type": "execute_result"
    }
   ],
   "source": [
    "dados['Age'].describe()"
   ]
  },
  {
   "cell_type": "code",
   "execution_count": 26,
   "id": "f77b2227-9c37-4f4a-8c41-d39dff8e0bad",
   "metadata": {},
   "outputs": [
    {
     "name": "stdout",
     "output_type": "stream",
     "text": [
      "<class 'pandas.core.series.Series'>\n",
      "RangeIndex: 891 entries, 0 to 890\n",
      "Series name: Age\n",
      "Non-Null Count  Dtype  \n",
      "--------------  -----  \n",
      "891 non-null    float64\n",
      "dtypes: float64(1)\n",
      "memory usage: 7.1 KB\n"
     ]
    }
   ],
   "source": [
    "media = round(dados['Age'].mean(), 2)\n",
    "dados['Age'].fillna(media, inplace = True)\n",
    "dados['Age'].info()"
   ]
  },
  {
   "cell_type": "markdown",
   "id": "70ad1945-6235-4d21-885f-5a42ca32cec3",
   "metadata": {},
   "source": [
    "# Transformação de variáveis categóricas para numéricas"
   ]
  },
  {
   "cell_type": "code",
   "execution_count": 8,
   "id": "05bac579-7d75-45cd-ba31-1678238664a2",
   "metadata": {
    "tags": []
   },
   "outputs": [
    {
     "data": {
      "text/html": [
       "<div>\n",
       "<style scoped>\n",
       "    .dataframe tbody tr th:only-of-type {\n",
       "        vertical-align: middle;\n",
       "    }\n",
       "\n",
       "    .dataframe tbody tr th {\n",
       "        vertical-align: top;\n",
       "    }\n",
       "\n",
       "    .dataframe thead th {\n",
       "        text-align: right;\n",
       "    }\n",
       "</style>\n",
       "<table border=\"1\" class=\"dataframe\">\n",
       "  <thead>\n",
       "    <tr style=\"text-align: right;\">\n",
       "      <th></th>\n",
       "      <th>Sex</th>\n",
       "      <th>Embarked</th>\n",
       "      <th>Cabin</th>\n",
       "      <th>Pclass</th>\n",
       "      <th>Age</th>\n",
       "      <th>SibSp</th>\n",
       "      <th>Parch</th>\n",
       "      <th>Fare</th>\n",
       "      <th>Survived</th>\n",
       "    </tr>\n",
       "  </thead>\n",
       "  <tbody>\n",
       "    <tr>\n",
       "      <th>0</th>\n",
       "      <td>1</td>\n",
       "      <td>2</td>\n",
       "      <td>147</td>\n",
       "      <td>3</td>\n",
       "      <td>22.0</td>\n",
       "      <td>1</td>\n",
       "      <td>0</td>\n",
       "      <td>7.2500</td>\n",
       "      <td>0</td>\n",
       "    </tr>\n",
       "    <tr>\n",
       "      <th>1</th>\n",
       "      <td>0</td>\n",
       "      <td>0</td>\n",
       "      <td>81</td>\n",
       "      <td>1</td>\n",
       "      <td>38.0</td>\n",
       "      <td>1</td>\n",
       "      <td>0</td>\n",
       "      <td>71.2833</td>\n",
       "      <td>1</td>\n",
       "    </tr>\n",
       "    <tr>\n",
       "      <th>2</th>\n",
       "      <td>0</td>\n",
       "      <td>2</td>\n",
       "      <td>147</td>\n",
       "      <td>3</td>\n",
       "      <td>26.0</td>\n",
       "      <td>0</td>\n",
       "      <td>0</td>\n",
       "      <td>7.9250</td>\n",
       "      <td>1</td>\n",
       "    </tr>\n",
       "    <tr>\n",
       "      <th>3</th>\n",
       "      <td>0</td>\n",
       "      <td>2</td>\n",
       "      <td>55</td>\n",
       "      <td>1</td>\n",
       "      <td>35.0</td>\n",
       "      <td>1</td>\n",
       "      <td>0</td>\n",
       "      <td>53.1000</td>\n",
       "      <td>1</td>\n",
       "    </tr>\n",
       "    <tr>\n",
       "      <th>4</th>\n",
       "      <td>1</td>\n",
       "      <td>2</td>\n",
       "      <td>147</td>\n",
       "      <td>3</td>\n",
       "      <td>35.0</td>\n",
       "      <td>0</td>\n",
       "      <td>0</td>\n",
       "      <td>8.0500</td>\n",
       "      <td>0</td>\n",
       "    </tr>\n",
       "  </tbody>\n",
       "</table>\n",
       "</div>"
      ],
      "text/plain": [
       "   Sex  Embarked  Cabin  Pclass   Age  SibSp  Parch     Fare  Survived\n",
       "0    1         2    147       3  22.0      1      0   7.2500         0\n",
       "1    0         0     81       1  38.0      1      0  71.2833         1\n",
       "2    0         2    147       3  26.0      0      0   7.9250         1\n",
       "3    0         2     55       1  35.0      1      0  53.1000         1\n",
       "4    1         2    147       3  35.0      0      0   8.0500         0"
      ]
     },
     "execution_count": 8,
     "metadata": {},
     "output_type": "execute_result"
    }
   ],
   "source": [
    "label = LabelEncoder()\n",
    "dados_transf = pd.DataFrame()\n",
    "dados_transf['Sex'] = label.fit_transform(dados['Sex'])\n",
    "dados_transf['Embarked'] = label.fit_transform(dados['Embarked'])\n",
    "dados_transf['Cabin'] = label.fit_transform(dados['Cabin'])\n",
    "dados_transf = pd.concat([dados_transf,\n",
    "                          dados['Pclass'],\n",
    "                          dados['Age'], \n",
    "                          dados['SibSp'],\n",
    "                          dados['Parch'],\n",
    "                          dados['Fare'],\n",
    "                          dados['Survived']],\n",
    "                         axis = 1)\n",
    "dados_transf.head()"
   ]
  },
  {
   "cell_type": "markdown",
   "id": "31455fdb-cce5-442f-8b88-cfe83fbfefcb",
   "metadata": {},
   "source": [
    "# Preparação do modelo"
   ]
  },
  {
   "cell_type": "code",
   "execution_count": 9,
   "id": "ef604900-f205-483d-91ea-73c0bd8a8a4a",
   "metadata": {},
   "outputs": [],
   "source": [
    "previsor = dados_transf.iloc[:,0:8].values\n",
    "classe = dados_transf.iloc[:,8].values\n",
    "seed = [0,1,2,3,4,5,6,7,8,9,10]"
   ]
  },
  {
   "cell_type": "code",
   "execution_count": 10,
   "id": "dcb5f1d8-4333-4f88-a337-241be9b3d1e8",
   "metadata": {},
   "outputs": [],
   "source": [
    "x_treino, x_teste, y_treino, y_teste = train_test_split(previsor, classe, \n",
    "                                                        test_size = 0.3,\n",
    "                                                        random_state = 0)"
   ]
  },
  {
   "cell_type": "markdown",
   "id": "6dcf718b-7f53-4b8c-8278-f58630345ffb",
   "metadata": {},
   "source": [
    "# Treinando modelo sem balanceamento"
   ]
  },
  {
   "cell_type": "markdown",
   "id": "6f64dd15-ad28-4216-a2c0-f110fdaf4988",
   "metadata": {},
   "source": [
    "#### Modelo SVC DESBALANCEADO"
   ]
  },
  {
   "cell_type": "code",
   "execution_count": 11,
   "id": "599c65fc-d73e-4328-a1ae-5a5e09404dd9",
   "metadata": {},
   "outputs": [
    {
     "name": "stdout",
     "output_type": "stream",
     "text": [
      "71.64179104477611\n",
      "71.64179104477611\n",
      "71.64179104477611\n",
      "71.64179104477611\n",
      "71.64179104477611\n",
      "71.64179104477611\n",
      "71.64179104477611\n",
      "71.64179104477611\n",
      "71.64179104477611\n",
      "71.64179104477611\n",
      "71.64179104477611\n"
     ]
    }
   ],
   "source": [
    "for x in seed:\n",
    "    svm_class = svm.SVC(random_state = x)\n",
    "    svm_class.fit(x_treino, y_treino)\n",
    "    \n",
    "    svm_class_sb = svm_class.predict(x_teste)\n",
    "    taxa_acerto_svm_sb = accuracy_score(y_teste, \n",
    "                                    svm_class_sb)\n",
    "    print(taxa_acerto_svm_sb * 100)"
   ]
  },
  {
   "cell_type": "code",
   "execution_count": 12,
   "id": "19247a37-5f3a-4a08-b4eb-80073f442b3a",
   "metadata": {},
   "outputs": [
    {
     "data": {
      "text/plain": [
       "array([[157,  11],\n",
       "       [ 65,  35]], dtype=int64)"
      ]
     },
     "execution_count": 12,
     "metadata": {},
     "output_type": "execute_result"
    }
   ],
   "source": [
    "svm_desbalanceado = confusion_matrix(y_teste, \n",
    "                                     svm_class_sb)\n",
    "svm_desbalanceado"
   ]
  },
  {
   "cell_type": "markdown",
   "id": "477dcda8-0f50-47cf-86f7-e193aa7a6bdc",
   "metadata": {},
   "source": [
    "#### Modelo ExtraTreesClassifier DESBALANCEADO"
   ]
  },
  {
   "cell_type": "code",
   "execution_count": 13,
   "id": "ed7e5349-fd73-4e2e-b400-d3fb493437a4",
   "metadata": {},
   "outputs": [
    {
     "name": "stdout",
     "output_type": "stream",
     "text": [
      "80.97014925373134\n",
      "79.1044776119403\n",
      "79.47761194029852\n",
      "80.59701492537313\n",
      "77.98507462686567\n",
      "80.97014925373134\n",
      "79.1044776119403\n",
      "80.59701492537313\n",
      "79.8507462686567\n",
      "80.22388059701493\n",
      "79.47761194029852\n"
     ]
    }
   ],
   "source": [
    "for x in seed:\n",
    "    et_class = ExtraTreesClassifier(random_state = x)\n",
    "    et_class.fit(x_treino, y_treino)\n",
    "    et_class_sb = et_class.predict(x_teste)\n",
    "    taxa_acerto_et_sb = accuracy_score(y_teste, \n",
    "                                   et_class_sb)\n",
    "    print(taxa_acerto_et_sb * 100)"
   ]
  },
  {
   "cell_type": "code",
   "execution_count": 14,
   "id": "8b61d3da-ee08-4670-a805-fb5ff10a7a49",
   "metadata": {},
   "outputs": [
    {
     "data": {
      "text/plain": [
       "array([[142,  26],\n",
       "       [ 29,  71]], dtype=int64)"
      ]
     },
     "execution_count": 14,
     "metadata": {},
     "output_type": "execute_result"
    }
   ],
   "source": [
    "et_desbalanceado = confusion_matrix(y_teste, \n",
    "                                    et_class_sb)\n",
    "et_desbalanceado"
   ]
  },
  {
   "cell_type": "markdown",
   "id": "7a823793-183d-4407-b0b9-7b81e81de076",
   "metadata": {},
   "source": [
    "#### Modelo RandomForestClassifier DESBALANCEADO"
   ]
  },
  {
   "cell_type": "code",
   "execution_count": 15,
   "id": "08f23b44-4a07-45aa-816c-b4b5df8c6ef8",
   "metadata": {},
   "outputs": [
    {
     "name": "stdout",
     "output_type": "stream",
     "text": [
      "82.46268656716418\n",
      "82.46268656716418\n",
      "82.83582089552239\n",
      "82.46268656716418\n",
      "82.83582089552239\n",
      "82.08955223880598\n",
      "83.2089552238806\n",
      "83.95522388059702\n",
      "82.08955223880598\n",
      "82.46268656716418\n",
      "83.95522388059702\n"
     ]
    }
   ],
   "source": [
    "for x in seed:\n",
    "    rf_class = RandomForestClassifier(random_state = x)\n",
    "    rf_class.fit(x_treino, y_treino)\n",
    "    rf_class_sb = rf_class.predict(x_teste)\n",
    "    taxa_acerto_rf_sb = accuracy_score(y_teste,\n",
    "                                   rf_class_sb)\n",
    "    print(taxa_acerto_rf_sb * 100)"
   ]
  },
  {
   "cell_type": "code",
   "execution_count": 16,
   "id": "3d16b93f-47f4-4232-a852-6c86ab4c179c",
   "metadata": {},
   "outputs": [
    {
     "data": {
      "text/plain": [
       "array([[149,  19],\n",
       "       [ 24,  76]], dtype=int64)"
      ]
     },
     "execution_count": 16,
     "metadata": {},
     "output_type": "execute_result"
    }
   ],
   "source": [
    "rf_desbalanceado = confusion_matrix(y_teste,\n",
    "                                    rf_class_sb)\n",
    "rf_desbalanceado"
   ]
  },
  {
   "cell_type": "markdown",
   "id": "566252a8-514f-4f64-a0af-3790b1c8b5bf",
   "metadata": {},
   "source": [
    "### Fazendo balanceamento OverSample "
   ]
  },
  {
   "cell_type": "code",
   "execution_count": 17,
   "id": "09f9a0d5-f09f-409b-8768-e4b1b9bb468b",
   "metadata": {},
   "outputs": [],
   "source": [
    "os = RandomOverSampler(random_state = 0)\n",
    "x_res, y_res = os.fit_resample(x_treino,\n",
    "                               y_treino)"
   ]
  },
  {
   "cell_type": "markdown",
   "id": "68922cbd-d0c5-4449-9a55-7d8a42e0bb95",
   "metadata": {},
   "source": [
    "# Treinando modelo com balanceamento"
   ]
  },
  {
   "cell_type": "markdown",
   "id": "5f41fe04-21aa-47f9-9f6a-5f404d2b0b34",
   "metadata": {},
   "source": [
    "#### Modelo SVC BALANCEADO"
   ]
  },
  {
   "cell_type": "code",
   "execution_count": 18,
   "id": "9fa32663-932d-4f8e-9a48-f94c2221259f",
   "metadata": {},
   "outputs": [
    {
     "name": "stdout",
     "output_type": "stream",
     "text": [
      "72.38805970149254\n",
      "72.38805970149254\n",
      "72.38805970149254\n",
      "72.38805970149254\n",
      "72.38805970149254\n",
      "72.38805970149254\n",
      "72.38805970149254\n",
      "72.38805970149254\n",
      "72.38805970149254\n",
      "72.38805970149254\n",
      "72.38805970149254\n"
     ]
    }
   ],
   "source": [
    "for x in seed:\n",
    "    svm_class = svm.SVC(random_state = x)\n",
    "    svm_class.fit(x_res, y_res)\n",
    "    svm_class_b = svm_class.predict(x_teste)\n",
    "    taxa_acerto_svm_b = accuracy_score(y_teste,\n",
    "                                   svm_class_b)\n",
    "    print(taxa_acerto_svm_b * 100)"
   ]
  },
  {
   "cell_type": "code",
   "execution_count": 19,
   "id": "2c35dc3b-3de3-41f1-a75a-877e35e1999b",
   "metadata": {},
   "outputs": [
    {
     "data": {
      "text/plain": [
       "array([[149,  19],\n",
       "       [ 55,  45]], dtype=int64)"
      ]
     },
     "execution_count": 19,
     "metadata": {},
     "output_type": "execute_result"
    }
   ],
   "source": [
    "svm_balanceado = confusion_matrix(y_teste,\n",
    "                                  svm_class_b)\n",
    "svm_balanceado"
   ]
  },
  {
   "cell_type": "markdown",
   "id": "fe3f7928-f9af-4c0f-a1f2-2f64b889f850",
   "metadata": {},
   "source": [
    "#### Modelo ExtraTreesClassifier BALANCEADO"
   ]
  },
  {
   "cell_type": "code",
   "execution_count": 20,
   "id": "2a3fcea0-28b7-49f5-8e13-c3eb700a8bff",
   "metadata": {},
   "outputs": [
    {
     "name": "stdout",
     "output_type": "stream",
     "text": [
      "81.71641791044776\n",
      "77.61194029850746\n",
      "81.34328358208955\n",
      "80.22388059701493\n",
      "79.8507462686567\n",
      "79.8507462686567\n",
      "80.97014925373134\n",
      "80.22388059701493\n",
      "80.97014925373134\n",
      "79.47761194029852\n",
      "80.22388059701493\n"
     ]
    }
   ],
   "source": [
    "for x in seed:\n",
    "    et_class = ExtraTreesClassifier(random_state = x)\n",
    "    et_class.fit(x_res, y_res)\n",
    "    et_class_b = et_class.predict(x_teste)\n",
    "    taxa_acerto_et_b = accuracy_score(y_teste,\n",
    "                                  et_class_b)\n",
    "    print(taxa_acerto_et_b*100)"
   ]
  },
  {
   "cell_type": "code",
   "execution_count": 21,
   "id": "f62cd4f9-565b-40ee-8dc3-9386652d8113",
   "metadata": {},
   "outputs": [
    {
     "data": {
      "text/plain": [
       "array([[142,  26],\n",
       "       [ 29,  71]], dtype=int64)"
      ]
     },
     "execution_count": 21,
     "metadata": {},
     "output_type": "execute_result"
    }
   ],
   "source": [
    "et_balanceado = confusion_matrix(y_teste,\n",
    "                                 et_class_sb)\n",
    "et_balanceado"
   ]
  },
  {
   "cell_type": "markdown",
   "id": "2bc35253-7d1c-4124-a090-745e424d2052",
   "metadata": {},
   "source": [
    "#### Modelo RandomForestClassifier BALANCEADO"
   ]
  },
  {
   "cell_type": "code",
   "execution_count": 22,
   "id": "477ec920-f8a3-4f18-a07f-6ea84ff5c7e7",
   "metadata": {},
   "outputs": [
    {
     "name": "stdout",
     "output_type": "stream",
     "text": [
      "82.46268656716418\n",
      "81.34328358208955\n",
      "80.97014925373134\n",
      "81.34328358208955\n",
      "80.97014925373134\n",
      "81.71641791044776\n",
      "82.83582089552239\n",
      "83.2089552238806\n",
      "82.83582089552239\n",
      "81.71641791044776\n",
      "82.46268656716418\n"
     ]
    }
   ],
   "source": [
    "for x in seed:\n",
    "    rf_class = RandomForestClassifier(random_state = x)\n",
    "    rf_class.fit(x_res, y_res)\n",
    "    rf_class_b = rf_class.predict(x_teste)\n",
    "    taxa_acerto_rf_b = accuracy_score(y_teste, \n",
    "                                  rf_class_b)\n",
    "    print(taxa_acerto_rf_b*100)"
   ]
  },
  {
   "cell_type": "code",
   "execution_count": 23,
   "id": "6fdf667f-dd73-4b1e-a6f8-1604c8374fb5",
   "metadata": {},
   "outputs": [
    {
     "data": {
      "text/plain": [
       "array([[146,  22],\n",
       "       [ 25,  75]], dtype=int64)"
      ]
     },
     "execution_count": 23,
     "metadata": {},
     "output_type": "execute_result"
    }
   ],
   "source": [
    "rf_balanceado = confusion_matrix(y_teste,\n",
    "                                 rf_class_b)\n",
    "rf_balanceado"
   ]
  },
  {
   "cell_type": "markdown",
   "id": "8d4812aa-dd34-4a37-9b89-e27a00ac1b5d",
   "metadata": {},
   "source": [
    "##### Escolha do modelo Random forest balanceado devido maior precisão comparado com ambientes balanceados\n",
    "(escolha pessoal, pois a taxa de distribuição entre sobreviventes e não sobreviventes é de 40-60)"
   ]
  },
  {
   "cell_type": "code",
   "execution_count": 24,
   "id": "f145f581-270f-42fe-89c0-12591d657e96",
   "metadata": {},
   "outputs": [
    {
     "data": {
      "text/plain": [
       "array([0.23912664, 0.03562187, 0.09075223, 0.07537389, 0.23753904,\n",
       "       0.05427876, 0.03344236, 0.23386521])"
      ]
     },
     "execution_count": 24,
     "metadata": {},
     "output_type": "execute_result"
    }
   ],
   "source": [
    "importancia = rf_class.feature_importances_\n",
    "importancia"
   ]
  },
  {
   "cell_type": "code",
   "execution_count": 25,
   "id": "73d3f158-86e0-4e19-b23a-ff524de4d10c",
   "metadata": {},
   "outputs": [
    {
     "name": "stdout",
     "output_type": "stream",
     "text": [
      "Colunas ['Sex', 'Embarked', 'Cabin', 'Pclass', 'Age', 'SibSp', 'Parch', 'Fare', 'Survived']\n",
      "\n",
      "Imporância [0.23912664 0.03562187 0.09075223 0.07537389 0.23753904 0.05427876\n",
      " 0.03344236 0.23386521]\n"
     ]
    }
   ],
   "source": [
    "print('Colunas', dados_transf.columns.to_list())\n",
    "print()\n",
    "print('Imporância', importancia)"
   ]
  }
 ],
 "metadata": {
  "kernelspec": {
   "display_name": "Python 3 (ipykernel)",
   "language": "python",
   "name": "python3"
  },
  "language_info": {
   "codemirror_mode": {
    "name": "ipython",
    "version": 3
   },
   "file_extension": ".py",
   "mimetype": "text/x-python",
   "name": "python",
   "nbconvert_exporter": "python",
   "pygments_lexer": "ipython3",
   "version": "3.10.9"
  }
 },
 "nbformat": 4,
 "nbformat_minor": 5
}
