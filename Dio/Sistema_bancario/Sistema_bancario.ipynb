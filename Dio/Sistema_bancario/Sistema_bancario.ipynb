{
 "cells": [
  {
   "cell_type": "code",
   "execution_count": 1,
   "id": "22fc068a-8000-4da4-9ae1-f4ecd80e0335",
   "metadata": {},
   "outputs": [],
   "source": [
    "menu = '''\n",
    "[d] = Depositar\n",
    "[s] = Sacar\n",
    "[e] = Extrato\n",
    "[q] = Sair\\n\n",
    "'''\n",
    "\n",
    "saldo = 0\n",
    "limite = 500\n",
    "extrato = ''\n",
    "numero_saques = 0\n",
    "LIMITE_SAQUES = 3"
   ]
  },
  {
   "cell_type": "code",
   "execution_count": 2,
   "id": "6bb2e88e-8faf-4178-a889-414c00216c5a",
   "metadata": {},
   "outputs": [
    {
     "name": "stdin",
     "output_type": "stream",
     "text": [
      "\n",
      "[d] = Depositar\n",
      "[s] = Sacar\n",
      "[e] = Extrato\n",
      "[q] = Sair\n",
      "\n",
      " q\n"
     ]
    }
   ],
   "source": [
    "while True:\n",
    "    opcao = input(menu)\n",
    "\n",
    "    if opcao == 'd':\n",
    "        deposito = float(input('Valor de depósito: R$'))\n",
    "        \n",
    "        if deposito > 0:\n",
    "            saldo += deposito\n",
    "            extrato += f'Depósito de R${deposito:.2f}\\n'\n",
    "    \n",
    "        \n",
    "        else:\n",
    "            print('Valor de depósito precisa ser maior que 0, favor tentar novamente\\n')\n",
    "            \n",
    "    elif opcao == 's':\n",
    "        saque = float(input('Valor de saque: R$'))\n",
    "        \n",
    "        if (numero_saques <= LIMITE_SAQUES) and (saque <= saldo) and (saque <= limite):\n",
    "            numero_saques += 1\n",
    "            saldo -= saque\n",
    "            extrato += f'Saque de R${saque:.2f}\\n'\n",
    "            \n",
    "        elif numero_saques > LIMITE_SAQUES:\n",
    "            print('Limite de saques excedidos\\n')\n",
    "            \n",
    "        elif saque > limite:\n",
    "            print(f'Saque maior que o limite permitido de R${limite}')\n",
    "        \n",
    "        else:\n",
    "            print('Saldo insuficiente\\n')     \n",
    "\n",
    "    elif opcao == 'e':\n",
    "        print('=============[Extrato]=============')\n",
    "        print('Sem movimentações realizadas' if not extrato in extrato else extrato)\n",
    "        print(f'Saldo de R${saldo:.2f}')\n",
    "        print('===================================\\n')\n",
    "\n",
    "    elif opcao == 'q':\n",
    "        break\n",
    "\n",
    "    else:\n",
    "        print('Operação inválida, por favor, insira novamente a operação desejada\\n')"
   ]
  }
 ],
 "metadata": {
  "kernelspec": {
   "display_name": "Python 3 (ipykernel)",
   "language": "python",
   "name": "python3"
  },
  "language_info": {
   "codemirror_mode": {
    "name": "ipython",
    "version": 3
   },
   "file_extension": ".py",
   "mimetype": "text/x-python",
   "name": "python",
   "nbconvert_exporter": "python",
   "pygments_lexer": "ipython3",
   "version": "3.10.9"
  }
 },
 "nbformat": 4,
 "nbformat_minor": 5
}
