{
 "cells": [
  {
   "cell_type": "markdown",
   "id": "c5c29c6f-5f49-4385-8aab-53d02c1a64ea",
   "metadata": {},
   "source": [
    "# Processo de ETL \n",
    "Os dados utilizados foram gerados pelo ChatGPT como forma de aprendizado"
   ]
  },
  {
   "cell_type": "code",
   "execution_count": 1,
   "id": "47dcc7cd-935c-496d-b7a4-d9843a18181b",
   "metadata": {},
   "outputs": [],
   "source": [
    "import pandas as pd\n",
    "from datetime import datetime"
   ]
  },
  {
   "cell_type": "markdown",
   "id": "00d02f94-e516-4e2e-8a25-5387f0c07fd0",
   "metadata": {},
   "source": [
    "## Extract"
   ]
  },
  {
   "cell_type": "code",
   "execution_count": 2,
   "id": "c9e57d1a-cb75-4320-a994-0c68a6fca222",
   "metadata": {},
   "outputs": [
    {
     "data": {
      "text/html": [
       "<div>\n",
       "<style scoped>\n",
       "    .dataframe tbody tr th:only-of-type {\n",
       "        vertical-align: middle;\n",
       "    }\n",
       "\n",
       "    .dataframe tbody tr th {\n",
       "        vertical-align: top;\n",
       "    }\n",
       "\n",
       "    .dataframe thead th {\n",
       "        text-align: right;\n",
       "    }\n",
       "</style>\n",
       "<table border=\"1\" class=\"dataframe\">\n",
       "  <thead>\n",
       "    <tr style=\"text-align: right;\">\n",
       "      <th></th>\n",
       "      <th>ID_Venda</th>\n",
       "      <th>Data_Venda</th>\n",
       "      <th>Cliente</th>\n",
       "      <th>Produto</th>\n",
       "      <th>Valor</th>\n",
       "    </tr>\n",
       "  </thead>\n",
       "  <tbody>\n",
       "    <tr>\n",
       "      <th>0</th>\n",
       "      <td>1</td>\n",
       "      <td>2023-08-01</td>\n",
       "      <td>João</td>\n",
       "      <td>Produto A</td>\n",
       "      <td>100</td>\n",
       "    </tr>\n",
       "    <tr>\n",
       "      <th>1</th>\n",
       "      <td>2</td>\n",
       "      <td>2023-08-02</td>\n",
       "      <td>Maria</td>\n",
       "      <td>Produto B</td>\n",
       "      <td>150</td>\n",
       "    </tr>\n",
       "    <tr>\n",
       "      <th>2</th>\n",
       "      <td>3</td>\n",
       "      <td>2023-08-03</td>\n",
       "      <td>Carlos</td>\n",
       "      <td>Produto A</td>\n",
       "      <td>120</td>\n",
       "    </tr>\n",
       "    <tr>\n",
       "      <th>3</th>\n",
       "      <td>4</td>\n",
       "      <td>2023-08-03</td>\n",
       "      <td>Ana</td>\n",
       "      <td>Produto C</td>\n",
       "      <td>200</td>\n",
       "    </tr>\n",
       "    <tr>\n",
       "      <th>4</th>\n",
       "      <td>5</td>\n",
       "      <td>2023-08-04</td>\n",
       "      <td>João</td>\n",
       "      <td>Produto B</td>\n",
       "      <td>130</td>\n",
       "    </tr>\n",
       "    <tr>\n",
       "      <th>5</th>\n",
       "      <td>6</td>\n",
       "      <td>2023-08-05</td>\n",
       "      <td>Laura</td>\n",
       "      <td>Produto A</td>\n",
       "      <td>110</td>\n",
       "    </tr>\n",
       "    <tr>\n",
       "      <th>6</th>\n",
       "      <td>7</td>\n",
       "      <td>2023-08-06</td>\n",
       "      <td>Maria</td>\n",
       "      <td>Produto C</td>\n",
       "      <td>180</td>\n",
       "    </tr>\n",
       "    <tr>\n",
       "      <th>7</th>\n",
       "      <td>8</td>\n",
       "      <td>2023-08-06</td>\n",
       "      <td>João</td>\n",
       "      <td>Produto A</td>\n",
       "      <td>90</td>\n",
       "    </tr>\n",
       "    <tr>\n",
       "      <th>8</th>\n",
       "      <td>9</td>\n",
       "      <td>2023-08-07</td>\n",
       "      <td>Carlos</td>\n",
       "      <td>Produto B</td>\n",
       "      <td>160</td>\n",
       "    </tr>\n",
       "    <tr>\n",
       "      <th>9</th>\n",
       "      <td>10</td>\n",
       "      <td>2023-08-07</td>\n",
       "      <td>Ana</td>\n",
       "      <td>Produto A</td>\n",
       "      <td>140</td>\n",
       "    </tr>\n",
       "  </tbody>\n",
       "</table>\n",
       "</div>"
      ],
      "text/plain": [
       "   ID_Venda  Data_Venda Cliente    Produto  Valor\n",
       "0         1  2023-08-01    João  Produto A    100\n",
       "1         2  2023-08-02   Maria  Produto B    150\n",
       "2         3  2023-08-03  Carlos  Produto A    120\n",
       "3         4  2023-08-03     Ana  Produto C    200\n",
       "4         5  2023-08-04    João  Produto B    130\n",
       "5         6  2023-08-05   Laura  Produto A    110\n",
       "6         7  2023-08-06   Maria  Produto C    180\n",
       "7         8  2023-08-06    João  Produto A     90\n",
       "8         9  2023-08-07  Carlos  Produto B    160\n",
       "9        10  2023-08-07     Ana  Produto A    140"
      ]
     },
     "execution_count": 2,
     "metadata": {},
     "output_type": "execute_result"
    }
   ],
   "source": [
    "df = pd.read_csv(\"lista.csv\")\n",
    "df"
   ]
  },
  {
   "cell_type": "markdown",
   "id": "1192307d-3797-4d18-a6f6-5ccc494b6c5e",
   "metadata": {},
   "source": [
    "## Transform"
   ]
  },
  {
   "cell_type": "code",
   "execution_count": 3,
   "id": "c6ed5848-648d-4e00-8964-6159ea6ff3f6",
   "metadata": {},
   "outputs": [
    {
     "data": {
      "text/plain": [
       "ID_Venda       int64\n",
       "Data_Venda    object\n",
       "Cliente       object\n",
       "Produto       object\n",
       "Valor          int64\n",
       "dtype: object"
      ]
     },
     "execution_count": 3,
     "metadata": {},
     "output_type": "execute_result"
    }
   ],
   "source": [
    "df.dtypes"
   ]
  },
  {
   "cell_type": "code",
   "execution_count": 4,
   "id": "8813e3cb-c811-458a-86de-13a6d15cd04c",
   "metadata": {},
   "outputs": [],
   "source": [
    "df['Data_Venda'] = pd.to_datetime(df['Data_Venda'], format='%y-%m-%d', infer_datetime_format=True)"
   ]
  },
  {
   "cell_type": "code",
   "execution_count": 5,
   "id": "36298842-29e2-416d-9d21-2eff657212b0",
   "metadata": {},
   "outputs": [],
   "source": [
    "## Contando clientes "
   ]
  },
  {
   "cell_type": "code",
   "execution_count": 6,
   "id": "252da798-ae32-4d20-a867-af047b5502c8",
   "metadata": {},
   "outputs": [
    {
     "data": {
      "text/plain": [
       "Cliente\n",
       "Ana       2\n",
       "Carlos    2\n",
       "João      3\n",
       "Laura     1\n",
       "Maria     2\n",
       "Name: Cliente, dtype: int64"
      ]
     },
     "execution_count": 6,
     "metadata": {},
     "output_type": "execute_result"
    }
   ],
   "source": [
    "df['Cliente'].groupby(df['Cliente']).count()"
   ]
  },
  {
   "cell_type": "code",
   "execution_count": 7,
   "id": "fbe75aa1-6acb-476c-9931-727187caf9e3",
   "metadata": {},
   "outputs": [],
   "source": [
    "df_2 = pd.DataFrame()\n",
    "df_2['Cliente'] = df['Cliente'].sort_values().unique()\n",
    "df_2['Valor_gasto'] = df['Valor'].groupby(df['Cliente']).sum().to_list()"
   ]
  },
  {
   "cell_type": "code",
   "execution_count": 8,
   "id": "9fa26b90-23b7-48a2-b575-0abfda17fde0",
   "metadata": {},
   "outputs": [
    {
     "data": {
      "text/html": [
       "<div>\n",
       "<style scoped>\n",
       "    .dataframe tbody tr th:only-of-type {\n",
       "        vertical-align: middle;\n",
       "    }\n",
       "\n",
       "    .dataframe tbody tr th {\n",
       "        vertical-align: top;\n",
       "    }\n",
       "\n",
       "    .dataframe thead th {\n",
       "        text-align: right;\n",
       "    }\n",
       "</style>\n",
       "<table border=\"1\" class=\"dataframe\">\n",
       "  <thead>\n",
       "    <tr style=\"text-align: right;\">\n",
       "      <th></th>\n",
       "      <th>Cliente</th>\n",
       "      <th>Valor_gasto</th>\n",
       "    </tr>\n",
       "  </thead>\n",
       "  <tbody>\n",
       "    <tr>\n",
       "      <th>0</th>\n",
       "      <td>Ana</td>\n",
       "      <td>340</td>\n",
       "    </tr>\n",
       "    <tr>\n",
       "      <th>1</th>\n",
       "      <td>Carlos</td>\n",
       "      <td>280</td>\n",
       "    </tr>\n",
       "    <tr>\n",
       "      <th>2</th>\n",
       "      <td>João</td>\n",
       "      <td>320</td>\n",
       "    </tr>\n",
       "    <tr>\n",
       "      <th>3</th>\n",
       "      <td>Laura</td>\n",
       "      <td>110</td>\n",
       "    </tr>\n",
       "    <tr>\n",
       "      <th>4</th>\n",
       "      <td>Maria</td>\n",
       "      <td>330</td>\n",
       "    </tr>\n",
       "  </tbody>\n",
       "</table>\n",
       "</div>"
      ],
      "text/plain": [
       "  Cliente  Valor_gasto\n",
       "0     Ana          340\n",
       "1  Carlos          280\n",
       "2    João          320\n",
       "3   Laura          110\n",
       "4   Maria          330"
      ]
     },
     "execution_count": 8,
     "metadata": {},
     "output_type": "execute_result"
    }
   ],
   "source": [
    "df_2"
   ]
  },
  {
   "cell_type": "markdown",
   "id": "324962bf-6254-4102-a920-421cb7978781",
   "metadata": {},
   "source": [
    "## Load"
   ]
  },
  {
   "cell_type": "code",
   "execution_count": 9,
   "id": "5fb0f5f1-a46d-4f0e-a73f-803041aa1e0b",
   "metadata": {},
   "outputs": [],
   "source": [
    "df_transf = df_2.to_csv('Dados_transform.csv', index=False)\n",
    "df_transf"
   ]
  }
 ],
 "metadata": {
  "kernelspec": {
   "display_name": "Python 3 (ipykernel)",
   "language": "python",
   "name": "python3"
  },
  "language_info": {
   "codemirror_mode": {
    "name": "ipython",
    "version": 3
   },
   "file_extension": ".py",
   "mimetype": "text/x-python",
   "name": "python",
   "nbconvert_exporter": "python",
   "pygments_lexer": "ipython3",
   "version": "3.10.9"
  }
 },
 "nbformat": 4,
 "nbformat_minor": 5
}
